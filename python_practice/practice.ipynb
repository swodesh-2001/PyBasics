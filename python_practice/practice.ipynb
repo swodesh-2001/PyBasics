{
 "cells": [
  {
   "cell_type": "markdown",
   "metadata": {},
   "source": [
    "# Python Practice"
   ]
  },
  {
   "cell_type": "markdown",
   "metadata": {},
   "source": [
    "## Python Lists"
   ]
  },
  {
   "cell_type": "markdown",
   "metadata": {},
   "source": [
    "Lists Characterstics\n",
    "\n",
    "* Ordered\n",
    "* Mutable\n",
    "* Can be both homogeneous or heterogeneous\n",
    "* Dynamic in size\n",
    "* Indexable\n",
    "* Iterable\n"
   ]
  },
  {
   "cell_type": "markdown",
   "metadata": {},
   "source": [
    "List Creation"
   ]
  },
  {
   "cell_type": "code",
   "execution_count": 129,
   "metadata": {},
   "outputs": [],
   "source": [
    "my_list = ['a' , 'b' , 3 , True , False] # mixed list\n",
    "empty_list = []\n",
    "another_list = list([1,2,3,4,5]) # list using constructor"
   ]
  },
  {
   "cell_type": "markdown",
   "metadata": {},
   "source": [
    "Indexing"
   ]
  },
  {
   "cell_type": "code",
   "execution_count": 130,
   "metadata": {},
   "outputs": [
    {
     "name": "stdout",
     "output_type": "stream",
     "text": [
      "True\n",
      "[3, 4]\n"
     ]
    }
   ],
   "source": [
    "print(my_list[-2])\n",
    "print(another_list[2:4])"
   ]
  },
  {
   "cell_type": "markdown",
   "metadata": {},
   "source": [
    "Adding New Elements"
   ]
  },
  {
   "cell_type": "code",
   "execution_count": 131,
   "metadata": {},
   "outputs": [
    {
     "name": "stdout",
     "output_type": "stream",
     "text": [
      "['a', 'b', 3, True, False, 8]\n",
      "[9, 8, 7, 6]\n",
      "[1, 2, 10, 3, 4, 5]\n"
     ]
    }
   ],
   "source": [
    "# Using appen()\n",
    "my_list.append(8)\n",
    "empty_list.extend([9,8,7,6])\n",
    "another_list.insert(2,10)\n",
    "print(my_list)\n",
    "print(empty_list)\n",
    "print(another_list)"
   ]
  },
  {
   "cell_type": "markdown",
   "metadata": {},
   "source": [
    "Removing Elements"
   ]
  },
  {
   "cell_type": "code",
   "execution_count": 132,
   "metadata": {},
   "outputs": [
    {
     "name": "stdout",
     "output_type": "stream",
     "text": [
      "['a', 'b', 3, True, False]\n"
     ]
    }
   ],
   "source": [
    "my_list.remove(8)\n",
    "print(my_list)"
   ]
  },
  {
   "cell_type": "code",
   "execution_count": 133,
   "metadata": {},
   "outputs": [
    {
     "data": {
      "text/plain": [
       "False"
      ]
     },
     "execution_count": 133,
     "metadata": {},
     "output_type": "execute_result"
    }
   ],
   "source": [
    "my_list.pop() # removes and returns the last element"
   ]
  },
  {
   "cell_type": "code",
   "execution_count": 134,
   "metadata": {},
   "outputs": [
    {
     "data": {
      "text/plain": [
       "'b'"
      ]
     },
     "execution_count": 134,
     "metadata": {},
     "output_type": "execute_result"
    }
   ],
   "source": [
    "my_list.pop(1) # removes and returns the element at first index"
   ]
  },
  {
   "cell_type": "markdown",
   "metadata": {},
   "source": [
    "List Operations in Python"
   ]
  },
  {
   "cell_type": "code",
   "execution_count": 135,
   "metadata": {},
   "outputs": [
    {
     "data": {
      "text/plain": [
       "[1, 2, 3, 4, 5, 6, 7, 8, 9, 10]"
      ]
     },
     "execution_count": 135,
     "metadata": {},
     "output_type": "execute_result"
    }
   ],
   "source": [
    "# Joining Lists\n",
    "l1 = [1,2,3,4,5]\n",
    "l2 = [6,7,8,9,10]\n",
    "l1+l2"
   ]
  },
  {
   "cell_type": "code",
   "execution_count": 136,
   "metadata": {},
   "outputs": [
    {
     "data": {
      "text/plain": [
       "[1, 2, 3, 4, 5, 1, 2, 3, 4, 5]"
      ]
     },
     "execution_count": 136,
     "metadata": {},
     "output_type": "execute_result"
    }
   ],
   "source": [
    "# Replicating lists\n",
    "l1*2 # returns list repeated 2 times"
   ]
  },
  {
   "cell_type": "code",
   "execution_count": 137,
   "metadata": {},
   "outputs": [
    {
     "data": {
      "text/plain": [
       "[5, 4, 3, 2, 1]"
      ]
     },
     "execution_count": 137,
     "metadata": {},
     "output_type": "execute_result"
    }
   ],
   "source": [
    "# List Reversing\n",
    "l1[::-1]"
   ]
  },
  {
   "cell_type": "markdown",
   "metadata": {},
   "source": [
    "Deleting elements from a list"
   ]
  },
  {
   "cell_type": "code",
   "execution_count": 138,
   "metadata": {},
   "outputs": [],
   "source": [
    "del l1 # Deletes list l1"
   ]
  },
  {
   "cell_type": "code",
   "execution_count": 139,
   "metadata": {},
   "outputs": [
    {
     "data": {
      "text/plain": [
       "10"
      ]
     },
     "execution_count": 139,
     "metadata": {},
     "output_type": "execute_result"
    }
   ],
   "source": [
    "temp_list = [1,1,2,2,4,5,6,7,7,7,8,8,9]\n",
    "temp_list.index(8) # Returns the index of first occurence"
   ]
  },
  {
   "cell_type": "code",
   "execution_count": 140,
   "metadata": {},
   "outputs": [
    {
     "data": {
      "text/plain": [
       "3"
      ]
     },
     "execution_count": 140,
     "metadata": {},
     "output_type": "execute_result"
    }
   ],
   "source": [
    "temp_list.count(7) # Counts the items"
   ]
  },
  {
   "cell_type": "code",
   "execution_count": 141,
   "metadata": {},
   "outputs": [
    {
     "data": {
      "text/plain": [
       "[1, 3, 4, 5, 6, 7, 8, 8, 9, 10]"
      ]
     },
     "execution_count": 141,
     "metadata": {},
     "output_type": "execute_result"
    }
   ],
   "source": [
    "l = [9,8,6,7,4,5,3,1,8,10]\n",
    "l.sort()\n",
    "l"
   ]
  },
  {
   "cell_type": "code",
   "execution_count": 142,
   "metadata": {},
   "outputs": [],
   "source": [
    "a = [1,2,3]\n",
    "b = a.copy() # copies the list"
   ]
  },
  {
   "cell_type": "markdown",
   "metadata": {},
   "source": [
    "## Built-in List Methods"
   ]
  },
  {
   "cell_type": "code",
   "execution_count": 143,
   "metadata": {},
   "outputs": [
    {
     "data": {
      "text/plain": [
       "True"
      ]
     },
     "execution_count": 143,
     "metadata": {},
     "output_type": "execute_result"
    }
   ],
   "source": [
    "l = [9,8,6,7,4,5,3,1,8,10]\n",
    "len(l)\n",
    "max(l)\n",
    "min(l)\n",
    "sum(l)\n",
    "sorted_list = sorted(l)\n",
    "all(l)\n",
    "any(l)"
   ]
  },
  {
   "cell_type": "markdown",
   "metadata": {},
   "source": [
    "enumerate()"
   ]
  },
  {
   "cell_type": "code",
   "execution_count": 144,
   "metadata": {},
   "outputs": [
    {
     "name": "stdout",
     "output_type": "stream",
     "text": [
      "[(0, 'Ram'), (1, 'Shyam'), (2, 'Hari'), (3, 'Sita')]\n"
     ]
    }
   ],
   "source": [
    "# Enumerate\n",
    "# Helps Keep Count of the iterator\n",
    "name_list = ['Ram', 'Shyam', 'Hari', 'Sita']\n",
    "enumerator1 = enumerate(name_list) # Returns a tuple of data along with its iterator\n",
    "\n",
    "print(list(enumerator1))"
   ]
  },
  {
   "cell_type": "code",
   "execution_count": 145,
   "metadata": {},
   "outputs": [
    {
     "name": "stdout",
     "output_type": "stream",
     "text": [
      "Count :  0  Name :  Ram\n",
      "Count :  1  Name :  Shyam\n",
      "Count :  2  Name :  Hari\n",
      "Count :  3  Name :  Sita\n"
     ]
    }
   ],
   "source": [
    "for count,val in enumerate(name_list) :\n",
    "    print(\"Count : \",count,\" Name : \",val)"
   ]
  },
  {
   "cell_type": "markdown",
   "metadata": {},
   "source": [
    "Using next() to access next element in a enumerator"
   ]
  },
  {
   "cell_type": "code",
   "execution_count": 146,
   "metadata": {},
   "outputs": [
    {
     "name": "stdout",
     "output_type": "stream",
     "text": [
      "(0, 'Ram')\n",
      "(1, 'Shyam')\n",
      "(2, 'Hari')\n",
      "(3, 'Sita')\n"
     ]
    }
   ],
   "source": [
    "enumerator2 = enumerate(name_list)\n",
    "print(next(enumerator2))\n",
    "print(next(enumerator2))\n",
    "print(next(enumerator2))\n",
    "print(next(enumerator2))\n"
   ]
  },
  {
   "cell_type": "markdown",
   "metadata": {},
   "source": [
    "To check whether a variable is of certain datatypes or not we use \n",
    "\n",
    "isinstance(x, int)"
   ]
  },
  {
   "cell_type": "markdown",
   "metadata": {},
   "source": [
    "**filter()**\n",
    "\n",
    "Returns a new list containing only the items in a list for which a function returns True."
   ]
  },
  {
   "cell_type": "code",
   "execution_count": 147,
   "metadata": {},
   "outputs": [
    {
     "name": "stdout",
     "output_type": "stream",
     "text": [
      "1\n",
      "2\n",
      "3\n",
      "4\n",
      "8\n"
     ]
    }
   ],
   "source": [
    "def check(x):\n",
    "    if isinstance(x, int):\n",
    "        return True\n",
    "    else :\n",
    "        return False\n",
    "\n",
    "\n",
    "mixed_list = [1,2,3,4,'a','b',8]\n",
    "filtered_list = filter(check,mixed_list)\n",
    "for i in filtered_list :\n",
    "    print(i)\n"
   ]
  },
  {
   "cell_type": "markdown",
   "metadata": {},
   "source": [
    "**map()**\n",
    "\n",
    " map() returns a map object (an iterator)\n",
    " \n",
    " Instead of using a for loop, the map() function provides a way of applying a function to every item in an iterable\n"
   ]
  },
  {
   "cell_type": "code",
   "execution_count": 148,
   "metadata": {},
   "outputs": [
    {
     "data": {
      "text/plain": [
       "'[1, 4, 9, 16, 25, 36, 64]'"
      ]
     },
     "execution_count": 148,
     "metadata": {},
     "output_type": "execute_result"
    }
   ],
   "source": [
    "\n",
    "old_list = [1,2,3,4,5,6,8]\n",
    "\n",
    "def func(x):\n",
    "    return x**2\n",
    "\n",
    "new_list = map(func,old_list)\n",
    "str(list(new_list))"
   ]
  },
  {
   "cell_type": "code",
   "execution_count": 149,
   "metadata": {},
   "outputs": [
    {
     "name": "stdout",
     "output_type": "stream",
     "text": [
      "[2, 16, 216, 4096, 100000]\n"
     ]
    }
   ],
   "source": [
    "# Using Built in funcitons\n",
    "base_numbers = [2, 4, 6, 8, 10]\n",
    "powers = [1, 2, 3, 4, 5]\n",
    "numbers_powers = list(map(pow, base_numbers, powers))\n",
    "print(numbers_powers)"
   ]
  },
  {
   "cell_type": "code",
   "execution_count": 150,
   "metadata": {},
   "outputs": [
    {
     "name": "stdout",
     "output_type": "stream",
     "text": [
      "[1, 4, 9, 16, 25, 36, 64]\n"
     ]
    }
   ],
   "source": [
    "# Using Lambda Function\n",
    "new_list = map(lambda x: x**2,old_list)\n",
    "print(list(new_list))"
   ]
  },
  {
   "cell_type": "markdown",
   "metadata": {},
   "source": [
    "zip()\n",
    "\n",
    "Returns an iterator that combines multiple lists into tuples. \n",
    "\n",
    "The iterator stops when the shortest input iterable is exhausted."
   ]
  },
  {
   "cell_type": "code",
   "execution_count": 151,
   "metadata": {},
   "outputs": [
    {
     "name": "stdout",
     "output_type": "stream",
     "text": [
      "(1, 9)\n",
      "(2, 8)\n",
      "(3, 7)\n",
      "(4, 6)\n",
      "(5, 5)\n",
      "(6, 4)\n"
     ]
    }
   ],
   "source": [
    "x = [1,2,3,4,5,6]\n",
    "y = [9,8,7,6,5,4]\n",
    "points = zip(x,y)\n",
    "for point in points :\n",
    "    print(point)"
   ]
  },
  {
   "cell_type": "markdown",
   "metadata": {},
   "source": [
    "# Python Tuple"
   ]
  },
  {
   "cell_type": "markdown",
   "metadata": {},
   "source": [
    "Tuple Characteristics\n",
    "\n",
    "* Immutable\n",
    "* Faster Access\n",
    "* Sequence Operations( supports sequence operations such as indexing, slicing ..)\n",
    "* Can store multiple datatypes\n",
    "\n",
    "\n",
    "Use cases :\n",
    "\n",
    "* Storing Fixed Data\n",
    "* They can be used as dictionary keys\n",
    "* Using tuple function can return multiple values"
   ]
  },
  {
   "cell_type": "code",
   "execution_count": 152,
   "metadata": {},
   "outputs": [
    {
     "name": "stdout",
     "output_type": "stream",
     "text": [
      "(1, 2, 3, 'a', 'b')\n"
     ]
    }
   ],
   "source": [
    "# Tuple Creation\n",
    "\n",
    "mixed_tuple = (1, 2, 3, 'a' , 'b')\n",
    "print(mixed_tuple)\n"
   ]
  },
  {
   "cell_type": "code",
   "execution_count": 153,
   "metadata": {},
   "outputs": [
    {
     "data": {
      "text/plain": [
       "(3, 'a')"
      ]
     },
     "execution_count": 153,
     "metadata": {},
     "output_type": "execute_result"
    }
   ],
   "source": [
    "# Slicing\n",
    "mixed_tuple[2:4]"
   ]
  },
  {
   "cell_type": "markdown",
   "metadata": {},
   "source": [
    "## Tuple Builtin Methods\n",
    "\n",
    "They are similar to list built in methods\n",
    "\n",
    "| Method/Function | Description                                                                                     |\n",
    "|-----------------|-------------------------------------------------------------------------------------------------|\n",
    "| count()         | Returns the number of occurrences of a specified element in a tuple.                           |\n",
    "| index()         | Returns the index of the first occurrence of a specified element in a tuple.                   |\n",
    "| len()           | Returns the number of elements in a tuple.                                                     |\n",
    "| sorted()        | Returns a new tuple with the elements sorted in ascending order.                                |\n",
    "| min()           | Returns the smallest element in a tuple.                                                       |\n",
    "| max()           | Returns the largest element in a tuple.                                                        |\n",
    "| tuple()         | Converts an iterable object into a tuple.                                                      |"
   ]
  },
  {
   "cell_type": "code",
   "execution_count": 154,
   "metadata": {},
   "outputs": [
    {
     "name": "stdout",
     "output_type": "stream",
     "text": [
      "1\n",
      "4\n",
      "[1, 2, 3, 4, 5, 7, 8, 9]\n",
      "9\n"
     ]
    }
   ],
   "source": [
    "my_tuple = (1,2,3,4,5,9,8,7)\n",
    "print(my_tuple.count(2))\n",
    "print(my_tuple.index(5))\n",
    "print(sorted(my_tuple))\n",
    "print(max(my_tuple))"
   ]
  },
  {
   "cell_type": "markdown",
   "metadata": {},
   "source": [
    "Tuple Operation"
   ]
  },
  {
   "cell_type": "code",
   "execution_count": 155,
   "metadata": {},
   "outputs": [
    {
     "name": "stdout",
     "output_type": "stream",
     "text": [
      "(1, 2, 3, 'a', 'b', 'c')\n"
     ]
    }
   ],
   "source": [
    "# Concatenating Tuples\n",
    "tuple1 = (1, 2, 3)\n",
    "tuple2 = ('a', 'b', 'c')  \n",
    "print(tuple1 + tuple2)  "
   ]
  },
  {
   "cell_type": "code",
   "execution_count": 156,
   "metadata": {},
   "outputs": [
    {
     "name": "stdout",
     "output_type": "stream",
     "text": [
      "(1, 2, 3, 1, 2, 3, 1, 2, 3)\n"
     ]
    }
   ],
   "source": [
    "# Replicating Tuples\n",
    "print(tuple1*3)"
   ]
  },
  {
   "cell_type": "code",
   "execution_count": 157,
   "metadata": {},
   "outputs": [
    {
     "name": "stdout",
     "output_type": "stream",
     "text": [
      "(1, 2, 3, 4, 5)\n"
     ]
    }
   ],
   "source": [
    "# Converting list to tuple\n",
    "my_list = [1,2,3,4,5]\n",
    "my_tuple = tuple(my_list)\n",
    "print(my_tuple)"
   ]
  },
  {
   "cell_type": "markdown",
   "metadata": {},
   "source": [
    "**Updating tuples**\n",
    "\n",
    "Since tuples are immutable we can't update them directly but we can update them by converting them into list , then modification and again back to tuple"
   ]
  },
  {
   "cell_type": "code",
   "execution_count": 158,
   "metadata": {},
   "outputs": [
    {
     "name": "stdout",
     "output_type": "stream",
     "text": [
      "(1, 4, 3)\n"
     ]
    }
   ],
   "source": [
    "my_tuple = (1, 2, 3)\n",
    "\n",
    "# Converting the tuple into a list\n",
    "\n",
    "my_list = list(my_tuple)\n",
    "\n",
    "# Updating the list\n",
    "\n",
    "my_list[1] = 4\n",
    "\n",
    "# Converting the list back into a tuple\n",
    "\n",
    "updated_tuple = tuple(my_list)\n",
    "\n",
    "print(updated_tuple)  # Output: (1, 4, 3)"
   ]
  },
  {
   "cell_type": "code",
   "execution_count": 159,
   "metadata": {},
   "outputs": [],
   "source": [
    "# deleting tuple\n",
    "del my_tuple"
   ]
  },
  {
   "cell_type": "markdown",
   "metadata": {},
   "source": [
    "# Python Dictionary\n",
    "\n",
    "A dictionary is a collection which is ordered*, changeable and do not allow duplicates."
   ]
  },
  {
   "cell_type": "code",
   "execution_count": 160,
   "metadata": {},
   "outputs": [
    {
     "name": "stdout",
     "output_type": "stream",
     "text": [
      "{'a': 1, 'b': 2, 'c': 3}\n"
     ]
    }
   ],
   "source": [
    "my_dict = {\n",
    "    'a' : 1 ,\n",
    "    'b' : 2 ,\n",
    "    'c' : 3\n",
    "}\n",
    "\n",
    "print(my_dict)"
   ]
  },
  {
   "cell_type": "code",
   "execution_count": 161,
   "metadata": {},
   "outputs": [
    {
     "data": {
      "text/plain": [
       "3"
      ]
     },
     "execution_count": 161,
     "metadata": {},
     "output_type": "execute_result"
    }
   ],
   "source": [
    "my_dict['c']"
   ]
  },
  {
   "cell_type": "code",
   "execution_count": 162,
   "metadata": {},
   "outputs": [
    {
     "name": "stdout",
     "output_type": "stream",
     "text": [
      "{'a': 1, 'b': 2, 'c': 8}\n"
     ]
    }
   ],
   "source": [
    "# Duplicates Can't Exist in dictionary\n",
    "\n",
    "my_dict = {\n",
    "    'a' : 1 ,\n",
    "    'b' : 2 ,\n",
    "    'c' : 3 ,\n",
    "    'c' : 8\n",
    "}\n",
    "\n",
    "print(my_dict)\n",
    "# we can see the duplicate over writes the previous value"
   ]
  },
  {
   "cell_type": "code",
   "execution_count": 163,
   "metadata": {},
   "outputs": [
    {
     "name": "stdout",
     "output_type": "stream",
     "text": [
      "{'name': 'Swodesh', 'age': 22, 'city': 'Kathmandu'}\n"
     ]
    }
   ],
   "source": [
    "# Creating dictionary with constructor\n",
    "\n",
    "my_dict = dict(name = 'Swodesh' , age = 22 , city = 'Kathmandu')\n",
    "print(my_dict)"
   ]
  },
  {
   "cell_type": "code",
   "execution_count": 164,
   "metadata": {},
   "outputs": [
    {
     "data": {
      "text/plain": [
       "dict_keys(['name', 'age', 'city'])"
      ]
     },
     "execution_count": 164,
     "metadata": {},
     "output_type": "execute_result"
    }
   ],
   "source": [
    "# Getting all the keys of the dictionary\n",
    "# Here the keys_list is a view of the dictionary my_dict. So any changes done in the dictionary\n",
    "# Keys will also be reflected in the key_list\n",
    "keys_list = my_dict.keys()\n",
    "keys_list"
   ]
  },
  {
   "cell_type": "code",
   "execution_count": 165,
   "metadata": {},
   "outputs": [],
   "source": [
    "my_dict[\"Company\"] = \"Ekbana\""
   ]
  },
  {
   "cell_type": "code",
   "execution_count": 166,
   "metadata": {},
   "outputs": [
    {
     "data": {
      "text/plain": [
       "dict_keys(['name', 'age', 'city', 'Company'])"
      ]
     },
     "execution_count": 166,
     "metadata": {},
     "output_type": "execute_result"
    }
   ],
   "source": [
    "keys_list"
   ]
  },
  {
   "cell_type": "code",
   "execution_count": 167,
   "metadata": {},
   "outputs": [
    {
     "data": {
      "text/plain": [
       "dict_values(['Swodesh', 22, 'Kathmandu', 'Ekbana'])"
      ]
     },
     "execution_count": 167,
     "metadata": {},
     "output_type": "execute_result"
    }
   ],
   "source": [
    "# Getting Values\n",
    "# Similar to above val_list is also a view of the my_dict values\n",
    "val_list = my_dict.values()\n",
    "val_list"
   ]
  },
  {
   "cell_type": "code",
   "execution_count": 168,
   "metadata": {},
   "outputs": [
    {
     "data": {
      "text/plain": [
       "dict_items([('name', 'Swodesh'), ('age', 22), ('city', 'Kathmandu'), ('Company', 'Ekbana')])"
      ]
     },
     "execution_count": 168,
     "metadata": {},
     "output_type": "execute_result"
    }
   ],
   "source": [
    "# Getting Items\n",
    "my_dict.items()"
   ]
  },
  {
   "cell_type": "code",
   "execution_count": 169,
   "metadata": {},
   "outputs": [
    {
     "name": "stdout",
     "output_type": "stream",
     "text": [
      "Yes there is info regarding age\n"
     ]
    }
   ],
   "source": [
    "# Checking if key exists\n",
    "if 'age' in my_dict :\n",
    "    print(\"Yes there is info regarding age\")"
   ]
  },
  {
   "cell_type": "markdown",
   "metadata": {},
   "source": [
    "Updating Dictionary"
   ]
  },
  {
   "cell_type": "code",
   "execution_count": 170,
   "metadata": {},
   "outputs": [
    {
     "data": {
      "text/plain": [
       "{'name': 'Swodesh', 'age': 22, 'city': 'lalitpur', 'Company': 'Ekbana'}"
      ]
     },
     "execution_count": 170,
     "metadata": {},
     "output_type": "execute_result"
    }
   ],
   "source": [
    "my_dict.update({'city' : 'lalitpur'})\n",
    "my_dict"
   ]
  },
  {
   "cell_type": "markdown",
   "metadata": {},
   "source": [
    "Removing items"
   ]
  },
  {
   "cell_type": "code",
   "execution_count": 171,
   "metadata": {},
   "outputs": [
    {
     "data": {
      "text/plain": [
       "'Ekbana'"
      ]
     },
     "execution_count": 171,
     "metadata": {},
     "output_type": "execute_result"
    }
   ],
   "source": [
    "my_dict.pop('Company')"
   ]
  },
  {
   "cell_type": "code",
   "execution_count": 172,
   "metadata": {},
   "outputs": [
    {
     "data": {
      "text/plain": [
       "{'name': 'Swodesh', 'age': 22, 'city': 'lalitpur'}"
      ]
     },
     "execution_count": 172,
     "metadata": {},
     "output_type": "execute_result"
    }
   ],
   "source": [
    "my_dict"
   ]
  },
  {
   "cell_type": "markdown",
   "metadata": {},
   "source": [
    "Clearing and Deleting dictionary\n",
    "\n",
    "Clear method clears the whole dictionary \n",
    "\n",
    "Delete methods deletes the whole dictionary"
   ]
  },
  {
   "cell_type": "code",
   "execution_count": 173,
   "metadata": {},
   "outputs": [
    {
     "data": {
      "text/plain": [
       "{}"
      ]
     },
     "execution_count": 173,
     "metadata": {},
     "output_type": "execute_result"
    }
   ],
   "source": [
    "my_dict.clear()\n",
    "my_dict"
   ]
  },
  {
   "cell_type": "code",
   "execution_count": 174,
   "metadata": {},
   "outputs": [],
   "source": [
    "del my_dict"
   ]
  },
  {
   "cell_type": "markdown",
   "metadata": {},
   "source": [
    "Creating dictionary Copy"
   ]
  },
  {
   "cell_type": "code",
   "execution_count": 175,
   "metadata": {},
   "outputs": [],
   "source": [
    "my_dict = dict(name = 'Swodesh' , age = 22 , city = 'Kathmandu')\n",
    "\n",
    "another_dict = my_dict.copy()\n",
    "another_dict2 = dict(my_dict)"
   ]
  },
  {
   "cell_type": "markdown",
   "metadata": {},
   "source": [
    "**Nested Dictionary**\n",
    "\n",
    "**A dictionary inside a dictionary**"
   ]
  },
  {
   "cell_type": "code",
   "execution_count": 176,
   "metadata": {},
   "outputs": [
    {
     "data": {
      "text/plain": [
       "'Ram'"
      ]
     },
     "execution_count": 176,
     "metadata": {},
     "output_type": "execute_result"
    }
   ],
   "source": [
    "my_dictionary ={\n",
    "    \"my_dict1\" : {\n",
    "        \"name\" : \"Ram\" ,\n",
    "        \"Age\" : 19\n",
    "    },\n",
    "\n",
    "     \"my_dict2\" : {\n",
    "        \"name\" : \"Shyam\" ,\n",
    "        'age' : 19\n",
    "    },\n",
    "\n",
    "     \"my_dict3\" : {\n",
    "        \"name\" : \"Hari\" ,\n",
    "        'age' : 19\n",
    "    }\n",
    "\n",
    "}\n",
    "\n",
    "my_dictionary['my_dict1'][\"name\"]"
   ]
  },
  {
   "cell_type": "markdown",
   "metadata": {},
   "source": [
    "## Dictionary Methods"
   ]
  },
  {
   "cell_type": "markdown",
   "metadata": {},
   "source": [
    "| Method      | Description                                                   |\n",
    "|-------------|---------------------------------------------------------------|\n",
    "| clear()     | Removes all the elements from the dictionary                  |\n",
    "| copy()      | Returns a copy of the dictionary                              |\n",
    "| fromkeys()  | Returns a dictionary with the specified keys and value        |\n",
    "| get()       | Returns the value of the specified key                        |\n",
    "| items()     | Returns a list containing a tuple for each key value pair     |\n",
    "| keys()      | Returns a list containing the dictionary's keys               |\n",
    "| pop()       | Removes the element with the specified key                   |\n",
    "| popitem()   | Removes the last inserted key-value pair                      |\n",
    "| setdefault()| Returns the value of the specified key. If the key does not exist: insert the key, with the specified value |\n",
    "| update()    | Updates the dictionary with the specified key-value pairs     |\n",
    "| values()    | Returns a list of all the values in the dictionary            |\n"
   ]
  },
  {
   "cell_type": "markdown",
   "metadata": {},
   "source": [
    "**fromkeys()**"
   ]
  },
  {
   "cell_type": "code",
   "execution_count": 177,
   "metadata": {},
   "outputs": [
    {
     "name": "stdout",
     "output_type": "stream",
     "text": [
      "{'key1': 0, 'key2': 0, 'key3': 0}\n"
     ]
    }
   ],
   "source": [
    "x = ('key1', 'key2', 'key3')\n",
    "y = 0\n",
    "\n",
    "thisdict = dict.fromkeys(x, y)\n",
    "\n",
    "print(thisdict)"
   ]
  },
  {
   "cell_type": "markdown",
   "metadata": {},
   "source": [
    "# Python Sets"
   ]
  },
  {
   "cell_type": "markdown",
   "metadata": {},
   "source": [
    "It is a built in data structure used to store a collection of unique items.\n",
    "\n",
    "**Characteristics**\n",
    "\n",
    "* Unordered\n",
    "* Unindexed\n",
    "* Mutable\n",
    "* Iterable"
   ]
  },
  {
   "cell_type": "markdown",
   "metadata": {},
   "source": [
    "**Applications**\n",
    "\n",
    "* Removing Duplicates\n",
    "* Performing mathematical set operations like integers, floats, tuples or strings"
   ]
  },
  {
   "cell_type": "markdown",
   "metadata": {},
   "source": [
    "**Creating Python Set**"
   ]
  },
  {
   "cell_type": "markdown",
   "metadata": {},
   "source": [
    "From List , Tuple "
   ]
  },
  {
   "cell_type": "code",
   "execution_count": 178,
   "metadata": {},
   "outputs": [
    {
     "name": "stdout",
     "output_type": "stream",
     "text": [
      "{1, 2, 3, 4, 5}\n",
      "{1, 2, 3, 4, 5}\n"
     ]
    }
   ],
   "source": [
    "my_set_1 = set([1,2,3,4,5])\n",
    "my_set_2 = set((1,2,3,4,5))\n",
    "print(my_set_1)\n",
    "print(my_set_2)"
   ]
  },
  {
   "cell_type": "markdown",
   "metadata": {},
   "source": [
    "**Checking Set Membership**"
   ]
  },
  {
   "cell_type": "code",
   "execution_count": 179,
   "metadata": {},
   "outputs": [
    {
     "name": "stdout",
     "output_type": "stream",
     "text": [
      "True\n"
     ]
    }
   ],
   "source": [
    "print(3 in my_set_1)"
   ]
  },
  {
   "cell_type": "markdown",
   "metadata": {},
   "source": [
    "**Set Built in Methods**"
   ]
  },
  {
   "cell_type": "markdown",
   "metadata": {},
   "source": [
    "| Method            | Description                                                      |\n",
    "|-------------------|------------------------------------------------------------------|\n",
    "| `add()`           | Adds an element to the set.                                      |\n",
    "| `clear()`         | Removes all elements from the set.                               |\n",
    "| `copy()`          | Returns a shallow copy of the set.                                |\n",
    "| `difference()`    | Returns the difference of two or more sets as a new set.         |\n",
    "| `difference_update()` | Removes all elements of another set from this set.              |\n",
    "| `discard()`       | Removes an element from the set if it is a member.               |\n",
    "| `intersection()`  | Returns the intersection of two or more sets as a new set.       |\n",
    "| `intersection_update()` | Updates the set with the intersection of itself and another set.|\n",
    "| `isdisjoint()`    | Returns True if two sets have a null intersection.               |\n",
    "| `issubset()`      | Returns True if another set contains this set.                   |\n",
    "| `issuperset()`    | Returns True if this set contains another set.                   |\n",
    "| `pop()`           | Removes and returns an arbitrary element from the set.           |\n",
    "| `remove()`        | Removes an element from the set.                                 |\n",
    "| `symmetric_difference()` | Returns the symmetric difference of two sets as a new set.   |\n",
    "| `symmetric_difference_update()` | Updates the set with the symmetric difference of itself with another set. |\n",
    "| `union()`         | Returns the union of sets as a new set.                          |\n",
    "| `update()`        | Updates the set with the union of itself and others.             |\n",
    "| `all() `        |  Returns True if all items of the set evaluate to True, or if the set is empty       |\n",
    "| `any() `        | Returns True if at least one item of the set evaluates to True (for an empty set, returns False)             |"
   ]
  },
  {
   "cell_type": "markdown",
   "metadata": {},
   "source": [
    "**Performing Mathematical Sets**"
   ]
  },
  {
   "cell_type": "code",
   "execution_count": 180,
   "metadata": {},
   "outputs": [
    {
     "name": "stdout",
     "output_type": "stream",
     "text": [
      "{1, 2, 3, 4, 5, 6, 7}\n",
      "{4, 5}\n",
      "{1, 2, 3}\n"
     ]
    }
   ],
   "source": [
    "a = {1, 2, 3, 4, 5}\n",
    "b = {4, 5, 6, 7}\n",
    "print(a.union(b))\n",
    "print(a.intersection(b))\n",
    "print(a.difference(b))\n"
   ]
  },
  {
   "cell_type": "markdown",
   "metadata": {},
   "source": [
    "# Python Functions and Classes"
   ]
  },
  {
   "cell_type": "markdown",
   "metadata": {},
   "source": [
    "## Functions"
   ]
  },
  {
   "cell_type": "markdown",
   "metadata": {},
   "source": [
    "`Arguments` also called `args` are the parameters passed to a function  \n",
    "\n",
    "From a function's perspective:\n",
    "\n",
    "A parameter is the variable listed inside the parentheses in the function definition.\n",
    "\n",
    "An argument is the value that is sent to the function when it is called.\n"
   ]
  },
  {
   "cell_type": "markdown",
   "metadata": {},
   "source": [
    "**Argument Types**\n",
    "\n",
    "* Default Arguments\n",
    "* Keyword Arguments\n",
    "* Positional Arguments\n",
    "* Arbitrary Positional Arguments\n",
    "* Arbitrary Keyword Arguments"
   ]
  },
  {
   "cell_type": "markdown",
   "metadata": {},
   "source": [
    "### Arbitrary Arguments, *args"
   ]
  },
  {
   "cell_type": "markdown",
   "metadata": {},
   "source": [
    "In case we dont know how many arguments to pass into a function we add `*` before the parameter. This makes the function receive a tuple of arguments"
   ]
  },
  {
   "cell_type": "code",
   "execution_count": 181,
   "metadata": {},
   "outputs": [
    {
     "name": "stdout",
     "output_type": "stream",
     "text": [
      "Ram\n",
      "Shyam\n",
      "Haru\n"
     ]
    }
   ],
   "source": [
    "def func(*names):\n",
    "    for name in names:\n",
    "        print(name)\n",
    "\n",
    "func('Ram','Shyam','Haru')"
   ]
  },
  {
   "cell_type": "markdown",
   "metadata": {},
   "source": [
    "### Keyword arguments \n",
    "The parameter can be passed into  a `key`and can be send in un ordered fashion"
   ]
  },
  {
   "cell_type": "code",
   "execution_count": 182,
   "metadata": {},
   "outputs": [
    {
     "name": "stdout",
     "output_type": "stream",
     "text": [
      " The oldest person in Ram\n"
     ]
    }
   ],
   "source": [
    "def my_function(child3, child2, child1):\n",
    "  print(\" The oldest person in \" + child1)\n",
    "\n",
    "my_function(child1 = \"Ram\", child2 = \"Hari\", child3 = \"Shyam\")"
   ]
  },
  {
   "cell_type": "markdown",
   "metadata": {},
   "source": [
    "### Arbitrary Keyword Arguments, **Kwargs"
   ]
  },
  {
   "cell_type": "markdown",
   "metadata": {},
   "source": [
    "In case we want to pass vairable keyword arguments, we use two asterik `**`\n",
    "\n",
    "In this case the argument provides dictionary into the function and the key will be the keyword used by the user when passing names into the function\n",
    "\n",
    "We can have only one `**Kwargs` "
   ]
  },
  {
   "cell_type": "code",
   "execution_count": 183,
   "metadata": {},
   "outputs": [
    {
     "name": "stdout",
     "output_type": "stream",
     "text": [
      "{'first_person': 'Ram', 'second_person': 'Hari'}\n"
     ]
    }
   ],
   "source": [
    "def my_function(**names):\n",
    "    print(names)\n",
    "\n",
    "my_function(first_person = \"Ram\", second_person = \"Hari\") "
   ]
  },
  {
   "cell_type": "markdown",
   "metadata": {},
   "source": [
    "### Positional-only Arguments"
   ]
  },
  {
   "cell_type": "markdown",
   "metadata": {},
   "source": [
    "To specify that a function can have ONLY positional arguments or ONLY keywords arguments we add, `/` after the arguments.\n",
    "\n",
    "Without `/` we can send both positional or keyword arguments."
   ]
  },
  {
   "cell_type": "code",
   "execution_count": 184,
   "metadata": {},
   "outputs": [
    {
     "name": "stdout",
     "output_type": "stream",
     "text": [
      "3\n"
     ]
    }
   ],
   "source": [
    "def my_function(x, /):\n",
    "  print(x)\n",
    "\n",
    "my_function(3) "
   ]
  },
  {
   "cell_type": "markdown",
   "metadata": {},
   "source": [
    "``` python\n",
    "def my_function(x, /):\n",
    "  print(x)\n",
    "\n",
    "my_function(3)\n",
    "```\n",
    "\n",
    "TypeError : Traceback (most recent call last)\n",
    "Cell In[9], line 1\n",
    "----> 1 my_function( x = 3)\n",
    "\n",
    "TypeError: my_function() got some positional-only arguments passed as keyword arguments: 'x'\n",
    "\n",
    "\n"
   ]
  },
  {
   "cell_type": "markdown",
   "metadata": {},
   "source": [
    "### Keyword-Only Arguments\n",
    "\n",
    "\n",
    "To specify only keyword arguments are allowed we add `*,` before the arguments"
   ]
  },
  {
   "cell_type": "code",
   "execution_count": 185,
   "metadata": {},
   "outputs": [
    {
     "name": "stdout",
     "output_type": "stream",
     "text": [
      "3\n"
     ]
    }
   ],
   "source": [
    "def my_function(*, x):\n",
    "  print(x)\n",
    "\n",
    "my_function(x = 3) "
   ]
  },
  {
   "cell_type": "markdown",
   "metadata": {},
   "source": [
    "```python\n",
    "def my_function(x):\n",
    "  print(x)\n",
    "\n",
    "my_function(3) \n",
    "```\n",
    "TypeError: my_function() takes 0 positional arguments but 1 was given\n",
    "\n",
    "\n"
   ]
  },
  {
   "cell_type": "markdown",
   "metadata": {},
   "source": [
    "### Combining Positional-Only and Keyword-Only"
   ]
  },
  {
   "cell_type": "code",
   "execution_count": 186,
   "metadata": {},
   "outputs": [
    {
     "name": "stdout",
     "output_type": "stream",
     "text": [
      "10\n"
     ]
    }
   ],
   "source": [
    "def my_function(a,b,/,*,c,d):\n",
    "    print(a+b+c+d)\n",
    "\n",
    "my_function(1,2,c=3,d=4)"
   ]
  },
  {
   "cell_type": "markdown",
   "metadata": {},
   "source": [
    "## Python Class"
   ]
  },
  {
   "cell_type": "markdown",
   "metadata": {},
   "source": [
    "`Class` : Template for a object  \n",
    "`Object` : Instance of a class  \n",
    "`Attributes` : Properties or data associated with a object of a class  \n",
    "`Methods` : Functions that we define withing a class"
   ]
  },
  {
   "cell_type": "markdown",
   "metadata": {},
   "source": [
    "**Defining Class**"
   ]
  },
  {
   "cell_type": "code",
   "execution_count": 187,
   "metadata": {},
   "outputs": [],
   "source": [
    "class person :\n",
    "    def __init__(self,name,age):\n",
    "        self.name = name\n",
    "        self.age = age\n",
    "\n",
    "    def say_name(self):\n",
    "        print(\"Hello my name is \", self.name)\n",
    "    "
   ]
  },
  {
   "cell_type": "markdown",
   "metadata": {},
   "source": [
    "`__init__()` this is a initializer. It defines and sets the initial values the class attributes.  \n",
    "It is also called constructor"
   ]
  },
  {
   "cell_type": "markdown",
   "metadata": {},
   "source": [
    "**Creating Objects From Class**"
   ]
  },
  {
   "cell_type": "code",
   "execution_count": 188,
   "metadata": {},
   "outputs": [],
   "source": [
    "ram = person('Ram',18)"
   ]
  },
  {
   "cell_type": "markdown",
   "metadata": {},
   "source": [
    "**Accessing attributed and methods**"
   ]
  },
  {
   "cell_type": "code",
   "execution_count": 189,
   "metadata": {},
   "outputs": [
    {
     "name": "stdout",
     "output_type": "stream",
     "text": [
      "Hello my name is  Ram\n",
      "18\n"
     ]
    }
   ],
   "source": [
    "ram.say_name()\n",
    "print(ram.age)"
   ]
  },
  {
   "cell_type": "markdown",
   "metadata": {},
   "source": [
    "### Public vs Non-Public Members"
   ]
  },
  {
   "cell_type": "markdown",
   "metadata": {},
   "source": [
    "n Python, all attributes are accessible in one way or another. Thus,we have to use a naming convention to tell that our attribute or method is public or not  \n",
    "The naming convention consists of adding a leading underscore to the member’s name"
   ]
  },
  {
   "cell_type": "markdown",
   "metadata": {},
   "source": [
    "| Member      | Naming                            | Examples            |\n",
    "|-------------|-----------------------------------|---------------------|\n",
    "| Public      | Use the normal naming pattern.    | age, say_name() |\n",
    "| Non-public  | Include a leading underscore in names. | _age, _say_name() |\n"
   ]
  },
  {
   "cell_type": "markdown",
   "metadata": {},
   "source": [
    "Though we can access the non public attributes its a bad practice"
   ]
  },
  {
   "cell_type": "markdown",
   "metadata": {},
   "source": [
    "### Name Mangling"
   ]
  },
  {
   "cell_type": "markdown",
   "metadata": {},
   "source": [
    "Adding two underscores represents name mangling.\n",
    "It results in hiding the attribute. Thus, they aren't available for direct access."
   ]
  },
  {
   "cell_type": "code",
   "execution_count": 190,
   "metadata": {},
   "outputs": [],
   "source": [
    "class person :\n",
    "    def __init__(self,name,age):\n",
    "        self.__name = name\n",
    "        self.__age = age\n",
    "\n",
    "    def say_name(self):\n",
    "        print(\"Hello my name is \", self.__name)"
   ]
  },
  {
   "cell_type": "markdown",
   "metadata": {},
   "source": [
    "hari = person('Hari',20)  \n",
    "hari.__name"
   ]
  },
  {
   "cell_type": "markdown",
   "metadata": {},
   "source": [
    "---------------------------------------------------------------------------\n",
    "AttributeError                            Traceback (most recent call last)\n",
    "Cell In[169], line 2\n",
    "      1 hari = person('Hari',20)\n",
    "----> 2 hari.__name\n",
    "\n",
    "AttributeError: 'person' object has no attribute '__name'"
   ]
  },
  {
   "cell_type": "markdown",
   "metadata": {},
   "source": [
    "But we can still access them, if we add class name prefix"
   ]
  },
  {
   "cell_type": "code",
   "execution_count": 192,
   "metadata": {},
   "outputs": [
    {
     "data": {
      "text/plain": [
       "'Hari'"
      ]
     },
     "execution_count": 192,
     "metadata": {},
     "output_type": "execute_result"
    }
   ],
   "source": [
    "hari = person('Hari',20)  \n",
    "hari._person__name"
   ]
  },
  {
   "cell_type": "markdown",
   "metadata": {},
   "source": [
    "But this is a wrong and bad practice"
   ]
  },
  {
   "cell_type": "markdown",
   "metadata": {},
   "source": [
    "## Advantages of using Classes\n",
    "\n",
    "* Abstraction\n",
    "* Encapsulation\n",
    "* Polymorphism\n",
    "* Inheritance"
   ]
  },
  {
   "cell_type": "markdown",
   "metadata": {},
   "source": [
    "**Attributes Types**\n",
    "\n",
    "* Class Attributes   \n",
    "    - Defined in class body directly\n",
    "* Instance Attributes  \n",
    "    - Defined inside a method"
   ]
  },
  {
   "cell_type": "markdown",
   "metadata": {},
   "source": [
    "### Class Attributes"
   ]
  },
  {
   "cell_type": "code",
   "execution_count": null,
   "metadata": {},
   "outputs": [],
   "source": [
    "\n",
    "\n",
    "class person :\n",
    "    num_persons = 0\n",
    "    def __init__(self,name,age):\n",
    "        person.num_persons += 1 \n",
    "        self.__name = name\n",
    "        self.__age = age\n",
    "\n",
    "    def give_persons(self):\n",
    "        print(\" The number of person created are :  \", person.num_persons)"
   ]
  },
  {
   "cell_type": "code",
   "execution_count": null,
   "metadata": {},
   "outputs": [
    {
     "name": "stdout",
     "output_type": "stream",
     "text": [
      " The number of person created are :   1\n",
      " The number of person created are :   2\n"
     ]
    }
   ],
   "source": [
    "ram = person('Ram',15)\n",
    "ram.give_persons()\n",
    "shyam = person('shyam',21)\n",
    "shyam.give_persons()"
   ]
  },
  {
   "cell_type": "markdown",
   "metadata": {},
   "source": [
    "### Instance Attributes"
   ]
  },
  {
   "cell_type": "code",
   "execution_count": null,
   "metadata": {},
   "outputs": [],
   "source": [
    "class person :\n",
    "    num_persons = 0\n",
    "    def __init__(self,name,age):\n",
    "        person.num_persons += 1 \n",
    "        self.__name = name\n",
    "        self.__age = age\n",
    "\n",
    "    def give_persons(self):\n",
    "        print(\" The number of person created are :  \", person.num_persons)"
   ]
  },
  {
   "cell_type": "markdown",
   "metadata": {},
   "source": [
    "In the person class , `num_persons` is class attribute whereas `__name`,` __age` are instance attributes"
   ]
  },
  {
   "cell_type": "markdown",
   "metadata": {},
   "source": [
    "### `.__dict__` Attribute"
   ]
  },
  {
   "cell_type": "markdown",
   "metadata": {},
   "source": [
    "Both class and instance have this attribute.  \n",
    "In a class, `.__dict__` will contain class attributes and methods. In an instance, `.__dict__ `will hold instance attribute.  \n",
    "When we search a member name in the class, python looks in `.__dict__`"
   ]
  },
  {
   "cell_type": "code",
   "execution_count": null,
   "metadata": {},
   "outputs": [
    {
     "data": {
      "text/plain": [
       "mappingproxy({'__module__': '__main__',\n",
       "              'num_persons': 0,\n",
       "              '__init__': <function __main__.person.__init__(self, name, age)>,\n",
       "              'give_persons': <function __main__.person.give_persons(self)>,\n",
       "              '__dict__': <attribute '__dict__' of 'person' objects>,\n",
       "              '__weakref__': <attribute '__weakref__' of 'person' objects>,\n",
       "              '__doc__': None})"
      ]
     },
     "execution_count": 112,
     "metadata": {},
     "output_type": "execute_result"
    }
   ],
   "source": [
    "person.__dict__"
   ]
  },
  {
   "cell_type": "markdown",
   "metadata": {},
   "source": [
    "We can see both class attribute and method of a class are present above"
   ]
  },
  {
   "cell_type": "code",
   "execution_count": null,
   "metadata": {},
   "outputs": [
    {
     "data": {
      "text/plain": [
       "'Ram'"
      ]
     },
     "execution_count": 113,
     "metadata": {},
     "output_type": "execute_result"
    }
   ],
   "source": [
    "ram = person('Ram',18)\n",
    "ram.__dict__['_person__name']"
   ]
  },
  {
   "cell_type": "markdown",
   "metadata": {},
   "source": [
    "## Dynamic Class and Instance Attributes"
   ]
  },
  {
   "cell_type": "markdown",
   "metadata": {},
   "source": [
    "We can add new attributes in classes and instances dynamically"
   ]
  },
  {
   "cell_type": "code",
   "execution_count": null,
   "metadata": {},
   "outputs": [],
   "source": [
    "setattr(ram , 'height' , 1.8)"
   ]
  },
  {
   "cell_type": "code",
   "execution_count": null,
   "metadata": {},
   "outputs": [
    {
     "data": {
      "text/plain": [
       "{'_person__name': 'Ram', '_person__age': 18, 'height': 1.8}"
      ]
     },
     "execution_count": 115,
     "metadata": {},
     "output_type": "execute_result"
    }
   ],
   "source": [
    "ram.__dict__"
   ]
  },
  {
   "cell_type": "markdown",
   "metadata": {},
   "source": [
    "We can also add attributes using constructor method"
   ]
  },
  {
   "cell_type": "code",
   "execution_count": null,
   "metadata": {},
   "outputs": [],
   "source": [
    "class empty_person :\n",
    "    pass"
   ]
  },
  {
   "cell_type": "markdown",
   "metadata": {},
   "source": [
    "**Adding Attributes Dynamically**"
   ]
  },
  {
   "cell_type": "code",
   "execution_count": null,
   "metadata": {},
   "outputs": [
    {
     "data": {
      "text/plain": [
       "{'name': 'Lonely Prasad'}"
      ]
     },
     "execution_count": 117,
     "metadata": {},
     "output_type": "execute_result"
    }
   ],
   "source": [
    "lonely = empty_person()\n",
    "lonely.name = \"Lonely Prasad\"\n",
    "lonely.__dict__"
   ]
  },
  {
   "cell_type": "markdown",
   "metadata": {},
   "source": [
    "**Adding Methods Dynamically**"
   ]
  },
  {
   "cell_type": "code",
   "execution_count": null,
   "metadata": {},
   "outputs": [
    {
     "data": {
      "text/plain": [
       "{'name': 'hari'}"
      ]
     },
     "execution_count": 118,
     "metadata": {},
     "output_type": "execute_result"
    }
   ],
   "source": [
    "def __init__(self,name):\n",
    "    self.name = name\n",
    "\n",
    "empty_person.__init__ = __init__ \n",
    "hari = empty_person(\"hari\")\n",
    "hari.__dict__"
   ]
  },
  {
   "cell_type": "markdown",
   "metadata": {},
   "source": [
    "### Dunder Methods\n",
    "\n",
    "They are also called magic methods. They are the methods that starts or ends with double underscores. `__`. They are commonly used by operator overloading. Dunder means `Double Underscores`"
   ]
  },
  {
   "cell_type": "markdown",
   "metadata": {},
   "source": [
    "In python every thing is a object. so lets see a dunder methods of int.\n",
    "\n",
    "`dir()` is a inbuilt function used on an object to look at all the properties/ attributes and methods of that object."
   ]
  },
  {
   "cell_type": "code",
   "execution_count": null,
   "metadata": {},
   "outputs": [
    {
     "name": "stdout",
     "output_type": "stream",
     "text": [
      "['__abs__', '__add__', '__and__', '__bool__', '__ceil__', '__class__', '__delattr__', '__dir__', '__divmod__', '__doc__', '__eq__', '__float__', '__floor__', '__floordiv__', '__format__', '__ge__', '__getattribute__', '__getnewargs__', '__gt__', '__hash__', '__index__', '__init__', '__init_subclass__', '__int__', '__invert__', '__le__', '__lshift__', '__lt__', '__mod__', '__mul__', '__ne__', '__neg__', '__new__', '__or__', '__pos__', '__pow__', '__radd__', '__rand__', '__rdivmod__', '__reduce__', '__reduce_ex__', '__repr__', '__rfloordiv__', '__rlshift__', '__rmod__', '__rmul__', '__ror__', '__round__', '__rpow__', '__rrshift__', '__rshift__', '__rsub__', '__rtruediv__', '__rxor__', '__setattr__', '__sizeof__', '__str__', '__sub__', '__subclasshook__', '__truediv__', '__trunc__', '__xor__', 'as_integer_ratio', 'bit_count', 'bit_length', 'conjugate', 'denominator', 'from_bytes', 'imag', 'numerator', 'real', 'to_bytes']\n"
     ]
    }
   ],
   "source": [
    "print(dir(int))"
   ]
  },
  {
   "cell_type": "markdown",
   "metadata": {},
   "source": [
    "### 1. `__init__methods`"
   ]
  },
  {
   "cell_type": "markdown",
   "metadata": {},
   "source": [
    "It is invoked without any call when an object is created from a class."
   ]
  },
  {
   "cell_type": "code",
   "execution_count": null,
   "metadata": {},
   "outputs": [
    {
     "name": "stdout",
     "output_type": "stream",
     "text": [
      "A person is created\n"
     ]
    }
   ],
   "source": [
    "class person :\n",
    "    def __init__(self) -> None:\n",
    "        print('A person is created')\n",
    "\n",
    "ram = person()"
   ]
  },
  {
   "cell_type": "markdown",
   "metadata": {},
   "source": [
    "### 2. `__repr__ `method`\n",
    "\n",
    "It defines how an object iis presented as a string"
   ]
  },
  {
   "cell_type": "code",
   "execution_count": null,
   "metadata": {},
   "outputs": [
    {
     "name": "stdout",
     "output_type": "stream",
     "text": [
      " __repr__ has been called. This person name is Ram\n"
     ]
    }
   ],
   "source": [
    "class person :\n",
    "    def __init__(self,name):\n",
    "        self.name = name\n",
    "    \n",
    "    def __repr__(self):\n",
    "        return \" __repr__ has been called. This person name is {}\".format(self.name)\n",
    "\n",
    "ram = person('Ram')\n",
    "print(ram)"
   ]
  },
  {
   "cell_type": "markdown",
   "metadata": {},
   "source": [
    "We cant add a string to ram object above.\n",
    "```python\n",
    "print(ram + 'He is very nice)\n",
    "```\n",
    "TypeError: unsupported operand type(s) for +: 'person' and 'str'"
   ]
  },
  {
   "cell_type": "markdown",
   "metadata": {},
   "source": [
    "### 3.`__add__ method`\n",
    "\n",
    "It defines how will the objects of a class add together. This is also the overloading the addition operator"
   ]
  },
  {
   "cell_type": "code",
   "execution_count": null,
   "metadata": {},
   "outputs": [
    {
     "name": "stdout",
     "output_type": "stream",
     "text": [
      "Hello my name is Ram. I am very happy\n"
     ]
    }
   ],
   "source": [
    "class person :\n",
    "    def __init__(self,name):\n",
    "        self.name = name\n",
    "    \n",
    "    def __repr__(self):\n",
    "        return \" __repr__ has been called. This person name is {}\".format(self.name)\n",
    "    \n",
    "    def __add__(self,other):\n",
    "        return 'Hello my name is {}. '.format(self.name) + 'I am very ' + other \n",
    "\n",
    "ram = person('Ram')\n",
    "print(ram + 'happy')"
   ]
  },
  {
   "cell_type": "markdown",
   "metadata": {},
   "source": [
    "### 4. `__call__ mathod`\n",
    "\n",
    "It makes the instances behave like functions and can be called like a function\n"
   ]
  },
  {
   "cell_type": "code",
   "execution_count": null,
   "metadata": {},
   "outputs": [
    {
     "name": "stdout",
     "output_type": "stream",
     "text": [
      "Hello My name is Ram.\n"
     ]
    }
   ],
   "source": [
    "class person :\n",
    "    def __init__(self,name):\n",
    "        self.name = name\n",
    "    def __call__(self):\n",
    "        print(\"Hello My name is {}.\".format(self.name))\n",
    "\n",
    "ram = person('Ram')\n",
    "ram()"
   ]
  },
  {
   "cell_type": "markdown",
   "metadata": {},
   "source": [
    "### Other various dunder methods"
   ]
  },
  {
   "cell_type": "markdown",
   "metadata": {},
   "source": [
    "### Object Instantiation and Destruction\n",
    "\n",
    "| Method   | Description                            |\n",
    "|----------|----------------------------------------|\n",
    "| `__new__`  | To get called in an object’s instantiation. |\n",
    "| `__init__` | To get called by the `__new__` method.        |\n",
    "| `__del__`  | It is the destructor.                        |"
   ]
  },
  {
   "cell_type": "markdown",
   "metadata": {},
   "source": [
    "### Numeric Magic Methods\n",
    "\n",
    "| Method       | Description                                      |\n",
    "|--------------|--------------------------------------------------|\n",
    "| `__trunc__`  | Implements behavior for `math.trunc()`            |\n",
    "| `__ceil__`   | Implements behavior for `math.ceil()`             |\n",
    "| `__floor__`  | Implements behavior for `math.floor()`            |\n",
    "| `__round__`  | Implements behavior for the built-in `round()`    |\n",
    "| `__invert__` | Implements behavior for inversion using the `~` operator. |\n",
    "| `__abs__`    | Implements behavior for the built-in `abs()`      |\n",
    "| `__neg__`    | Implements behavior for negation                  |\n",
    "| `__pos__`    | Implements behavior for unary positive            |"
   ]
  },
  {
   "cell_type": "markdown",
   "metadata": {},
   "source": [
    "### Arithmetic Operators\n",
    "\n",
    "| Method         | Description                                     |\n",
    "|----------------|-------------------------------------------------|\n",
    "| `__add__`      | Implements behavior for `+` operator            |\n",
    "| `__sub__`      | Implements behavior for `-` operator            |\n",
    "| `__mul__`      | Implements behavior for `*` operator            |\n",
    "| `__floordiv__` | Implements behavior for `//` operator           |\n",
    "| `__div__`      | Implements behavior for `/` operator            |\n",
    "| `__truediv__`  | Implements behavior for `/` operator (true division) |\n",
    "| `__mod__`      | Implements behavior for `%` operator            |\n",
    "| `__divmod__`   | Implements behavior for `divmod()` function     |\n",
    "| `__pow__`      | Implements behavior for `**` operator           |\n",
    "| `__lshift__`   | Implements left bitwise shift using the `<<` operator. |\n",
    "| `__rshift__`   | Implements right bitwise shift using the `>>` operator. |\n",
    "| `__and__`      | Implements bitwise `and` using the `&` operator. |\n",
    "| `__or__`       | Implements bitwise `or` using the `|` operator.  |\n",
    "| `__xor__`      | Implements bitwise `xor` using the `^` operator. |"
   ]
  },
  {
   "cell_type": "markdown",
   "metadata": {},
   "source": [
    "### String Magic Methods\n",
    "\n",
    "| Method      | Description                                         |\n",
    "|-------------|-----------------------------------------------------|\n",
    "| `__str__`   | Defines behavior for when `str()` is called on an instance of your class. |\n",
    "| `__repr__`  | To get called by built-in `repr()` method to return a machine readable representation of a type. |\n",
    "| `__unicode__`| This method to return a unicode string of a type.  |\n",
    "| `__format__` | Return a new style of string.                      |\n",
    "| `__hash__`   | It has to return an integer, and its result is used for quick key comparison in dictionaries. |\n",
    "| `__nonzero__`| Defines behavior for when `bool()` is called on an instance of your class. |\n",
    "| `__dir__`    | This method to return a list of attributes of a class. |\n",
    "| `__sizeof__` | It returns the size of the object.                 |"
   ]
  },
  {
   "cell_type": "markdown",
   "metadata": {},
   "source": [
    "### Comparison Magic Methods\n",
    "\n",
    "| Method      | Description                                           |\n",
    "|-------------|-------------------------------------------------------|\n",
    "| `__eq__`    | Defines behavior for the equality operator, `==`.     |\n",
    "| `__ne__`    | Defines behavior for the inequality operator, `!=`.   |\n",
    "| `__lt__`    | Defines behavior for the less-than operator, `<`.     |\n",
    "| `__gt__`    | Defines behavior for the greater-than operator, `>`.  |\n",
    "| `__le__`    | Defines behavior for the less-than-or-equal-to operator, `<=`. |\n",
    "| `__ge__`    | Defines behavior for the greater-than-or-equal-to operator, `>=`. |"
   ]
  },
  {
   "cell_type": "markdown",
   "metadata": {},
   "source": [
    "### `__name__`"
   ]
  },
  {
   "cell_type": "markdown",
   "metadata": {},
   "source": [
    "There are two ways of executing a python script. It is either as a module or as application(script). \n",
    "\n",
    "**1. To execute as application**\n",
    "\n",
    "```bash\n",
    "python main.py\n",
    "```\n",
    "When executing as a script the code will get exsecuted right away  \n",
    "\n",
    "**2. To import as a module**\n",
    "\n",
    "```python\n",
    "import module_name\n",
    "```\n",
    "\n",
    "When imported as a module, we dont want the codes to run unless called. So if we want to make sure that certain statement which would get executed when called as a script to not execute when imported as module , we use `__name__`. It makes sure the code will be executed only when ran as a script.\n"
   ]
  },
  {
   "cell_type": "markdown",
   "metadata": {},
   "source": [
    "```python\n",
    "if __name__ == '__main__' :\n",
    "    # statements\n",
    "```"
   ]
  },
  {
   "cell_type": "markdown",
   "metadata": {},
   "source": [
    "### Constructors"
   ]
  },
  {
   "cell_type": "markdown",
   "metadata": {},
   "source": [
    "It is a special method that is called when object is created.   \n",
    "`__init__` is a constructor method."
   ]
  },
  {
   "cell_type": "markdown",
   "metadata": {},
   "source": [
    "Types of python constructors.\n",
    "\n",
    "* Default Constructors : Takes no arguments.Creates default values for its attributes\n",
    "* Parameterized Constructors : Takes one or more arguments\n",
    "* Non-Parameterized Constructors : Takes no arguments. Its used to initialize default values for the instance variables. "
   ]
  },
  {
   "cell_type": "markdown",
   "metadata": {},
   "source": [
    "### Default Constructors"
   ]
  },
  {
   "cell_type": "code",
   "execution_count": null,
   "metadata": {},
   "outputs": [
    {
     "name": "stdout",
     "output_type": "stream",
     "text": [
      "Default constructor called\n",
      "Ram   22\n"
     ]
    }
   ],
   "source": [
    "class Person:\n",
    "    def __init__(self):\n",
    "        self.name = \"Ram\"\n",
    "        self.age = 22\n",
    "        print(\"Default constructor called\")\n",
    "\n",
    "ram = Person()\n",
    "print(ram.name , \" \" , ram.age)"
   ]
  },
  {
   "cell_type": "markdown",
   "metadata": {},
   "source": [
    "### Parameterized Constructors"
   ]
  },
  {
   "cell_type": "code",
   "execution_count": null,
   "metadata": {},
   "outputs": [
    {
     "name": "stdout",
     "output_type": "stream",
     "text": [
      "Parameterized constructor called\n",
      "Ram   22\n"
     ]
    }
   ],
   "source": [
    "class Person:\n",
    "    def __init__(self,name,age):\n",
    "        self.name = name\n",
    "        self.age = age\n",
    "        print(\"Parameterized constructor called\")\n",
    "\n",
    "ram = Person('Ram',22)\n",
    "print(ram.name , \" \" , ram.age)"
   ]
  },
  {
   "cell_type": "markdown",
   "metadata": {},
   "source": [
    "### Python Constructor Rules\n",
    "\n",
    "* must be named __init__\n",
    "* `self` argument must be passed.\n",
    "* must be defined inside the class\n",
    "* it called automatically when object instance is created\n",
    "* In case both parameterized and default constructor is present, former one will be called if arguments is passed."
   ]
  },
  {
   "cell_type": "markdown",
   "metadata": {},
   "source": [
    "### Inheritance"
   ]
  },
  {
   "cell_type": "markdown",
   "metadata": {},
   "source": [
    "Allows to get methods and properties from another class.\n",
    "\n",
    "Parent class ( Base class) it is the class whose methods/attributes will be inherited by child class or derived class."
   ]
  },
  {
   "cell_type": "code",
   "execution_count": null,
   "metadata": {},
   "outputs": [
    {
     "name": "stdout",
     "output_type": "stream",
     "text": [
      "hello my name is Hiralal\n"
     ]
    }
   ],
   "source": [
    "class Father:\n",
    "    def __init__(self,name,age):\n",
    "        self.name = name\n",
    "        self.age = age\n",
    "    \n",
    "    def speak(self):\n",
    "        print(\"hello my name is {}\".format(self.name))\n",
    " \n",
    "\n",
    "class Son(Father):\n",
    "    pass\n",
    "\n",
    "\n",
    "child_1 = Son('Hiralal',23)\n",
    "child_1.speak()\n",
    " "
   ]
  },
  {
   "cell_type": "markdown",
   "metadata": {},
   "source": [
    "In the above example the child class inherited the constructor from the parent class. Now lets add the constructor to the child class as well.\n",
    "\n",
    "So when we add `__init__` into the child class, it will no longer inherit the `__init__` from the parent class."
   ]
  },
  {
   "cell_type": "markdown",
   "metadata": {},
   "source": [
    "> Note: The child's __init__() function overrides the inheritance of the parent's __init__() function."
   ]
  },
  {
   "cell_type": "code",
   "execution_count": null,
   "metadata": {},
   "outputs": [
    {
     "name": "stdout",
     "output_type": "stream",
     "text": [
      "Child constructor called\n",
      "hello my name is Hiralal\n"
     ]
    }
   ],
   "source": [
    "class Father:\n",
    "    def __init__(self,name,age):\n",
    "        self.name = name\n",
    "        self.age = age\n",
    "    \n",
    "    def speak(self):\n",
    "        print(\"hello my name is {}\".format(self.name))\n",
    " \n",
    "\n",
    "class Son(Father):\n",
    "    def __init__(self,name,age):\n",
    "        print(\"Child constructor called\")\n",
    "        Father.__init__(self,name,age) # Or we can create our own new constructor\n",
    "\n",
    "\n",
    "child_1 = Son('Hiralal',23)\n",
    "child_1.speak()\n",
    " "
   ]
  },
  {
   "cell_type": "markdown",
   "metadata": {},
   "source": [
    "### super() function\n",
    "\n",
    "This makes the child class inherit all the mathods and properties from its parent class."
   ]
  },
  {
   "cell_type": "code",
   "execution_count": null,
   "metadata": {},
   "outputs": [
    {
     "name": "stdout",
     "output_type": "stream",
     "text": [
      "Child constructor called\n",
      "2001/10/25\n",
      "Speak function of child called\n",
      "hello my name is Hiralal\n"
     ]
    }
   ],
   "source": [
    "class Father:\n",
    "    def __init__(self,name,age):\n",
    "        self.name = name\n",
    "        self.age = age\n",
    "    \n",
    "    def speak(self):\n",
    "        print(\"hello my name is {}\".format(self.name))\n",
    " \n",
    "\n",
    "class Son(Father):\n",
    "    def __init__(self,name,age,dob):\n",
    "        print(\"Child constructor called\")\n",
    "        super().__init__(name,age)  \n",
    "        self.birthyear = dob\n",
    "    \n",
    "    def speak(self):\n",
    "        print(\"Speak function of child called\")\n",
    "        super().speak()\n",
    "\n",
    "    def say_birth(self):\n",
    "        print(self.birthyear)\n",
    "\n",
    "child_1 = Son('Hiralal',23,'2001/10/25')\n",
    "child_1.say_birth()\n",
    "child_1.speak()\n",
    " "
   ]
  },
  {
   "cell_type": "markdown",
   "metadata": {},
   "source": [
    "### Operator Overloading\n",
    "\n",
    "This allows us to redefine the behavior of operators."
   ]
  },
  {
   "cell_type": "markdown",
   "metadata": {},
   "source": [
    "### Overloading Unary Operators\n",
    "\n",
    "Unary operators in python are operators that perform operations on a single operand."
   ]
  },
  {
   "cell_type": "code",
   "execution_count": null,
   "metadata": {},
   "outputs": [
    {
     "name": "stdout",
     "output_type": "stream",
     "text": [
      " X value : 3 \n",
      " Y value : -5\n"
     ]
    }
   ],
   "source": [
    "class Point :\n",
    "    def __init__(self,x,y):\n",
    "        self.x = x\n",
    "        self.y = y\n",
    "       \n",
    "    def get_x(self):\n",
    "        return self.x\n",
    "\n",
    "    def get_y(self):\n",
    "        return self.y\n",
    "\n",
    "    def __neg__(self):\n",
    "        return  Point(- self.get_x()  , - self.get_y() )\n",
    "    \n",
    "    def __repr__(self):\n",
    "        return \" X value : {} \\n Y value : {}\".format(self.x,self.y)\n",
    "    \n",
    "point1 = Point(-3,5)\n",
    "point2 = -point1\n",
    "print(point2)\n"
   ]
  },
  {
   "cell_type": "markdown",
   "metadata": {},
   "source": [
    "### Overloading arithmetic operators"
   ]
  },
  {
   "cell_type": "code",
   "execution_count": null,
   "metadata": {},
   "outputs": [
    {
     "name": "stdout",
     "output_type": "stream",
     "text": [
      " X value : 6 \n",
      " Y value : -3\n"
     ]
    }
   ],
   "source": [
    "class Point :\n",
    "    def __init__(self,x,y):\n",
    "        self.x = x\n",
    "        self.y = y\n",
    "       \n",
    "    def get_x(self):\n",
    "        return self.x\n",
    "\n",
    "    def get_y(self):\n",
    "        return self.y\n",
    " \n",
    "    def __add__(self,another_number):\n",
    "        return  point(self.get_x() + another_number.get_x() , self.get_y() + another_number.get_y())\n",
    "    \n",
    "    def __sub__(self,another_number):\n",
    "        return  point(self.get_x() - another_number.get_x() , self.get_y() - another_number.get_y())\n",
    "    \n",
    "    def __repr__(self):\n",
    "        return \" X value : {} \\n Y value : {}\".format(self.x,self.y)\n",
    "    \n",
    "\n",
    "point1 = Point(1,2)\n",
    "point2 = Point(5,-5)\n",
    "print(point1 + point2)\n"
   ]
  },
  {
   "cell_type": "markdown",
   "metadata": {},
   "source": [
    "If object a possesses the __add__ method, the interpreter invokes        a.__add__ (b) and returns the result, unless the method returns NotImplemented.  \n",
    "\n",
    "If object a lacks the __add__ method or its invocation returns NotImplemented, the interpreter checks whether object b has the __radd__ method (reverse add). If present, it calls b.__radd__ (a) and returns the result, unless the method returns NotImplemented."
   ]
  },
  {
   "cell_type": "markdown",
   "metadata": {},
   "source": [
    "### `@` operator\n",
    "\n",
    "The special methods __matmul__, __rmatmul__, and __imatmul__ are associated with the \"@\" operator, which is named after matrix multiplication"
   ]
  },
  {
   "cell_type": "markdown",
   "metadata": {},
   "source": [
    "### Python Arithmetic operators\n",
    "\n",
    "| Operator | Forward        | Reverse        | In-place       | Description                                           |\n",
    "|----------|----------------|----------------|----------------|-------------------------------------------------------|\n",
    "| +        | __add__        | __radd__       | __iadd__       | Addition or concatenation                             |\n",
    "| -        | __sub__        | __rsub__       | __isub__       | Subtraction                                           |\n",
    "| *        | __mul__        | __rmul__       | __imul__       | Multiplication or repetition                          |\n",
    "| /        | __truediv__    | __rtruediv__   | __itruediv__   | True division                                         |\n",
    "| //       | __floordiv__   | __rfloordiv__  | __ifloordiv__  | Floor division                                        |\n",
    "| %        | __mod__        | __rmod__       | __imod__       | Modulo                                                |\n",
    "| divmod() | __divmod__     | __rdivmod__    | __idivmod__    | Returns tuple of floor division quotient and modulo   |\n",
    "| **, pow()| __pow__        | __rpow__       | __ipow__       | Exponentiation                                        |\n",
    "| @        | __matmul__     | __rmatmul__    | __imatmul__    | Matrix multiplication                                 |\n",
    "| &        | __and__        | __rand__       | __iand__       | Bitwise and                                           |\n",
    "| \\|       | __or__         | __ror__        | __ior__        | Bitwise or                                            |\n",
    "| ^        | __xor__        | __rxor__       | __ixor__       | Bitwise xor                                           |\n",
    "| <<       | __lshift__     | __rlshift__    | __ilshift__    | Bitwise shift left                                    |\n",
    "| >>       | __rshift__     | __rrshift__    | __irshift__    | Bitwise shift right                                   |\n"
   ]
  },
  {
   "cell_type": "markdown",
   "metadata": {},
   "source": [
    "### Docstrings"
   ]
  },
  {
   "cell_type": "markdown",
   "metadata": {},
   "source": [
    "It is used like a comment to document a specifid segment of code. Below shows the sample example of using docstrings."
   ]
  },
  {
   "cell_type": "code",
   "execution_count": null,
   "metadata": {},
   "outputs": [],
   "source": [
    "def my_function():\n",
    "    '''This is one of the sample example of using docstrings to descrive a funciton'''\n",
    "    return None"
   ]
  },
  {
   "cell_type": "code",
   "execution_count": null,
   "metadata": {},
   "outputs": [
    {
     "data": {
      "text/plain": [
       "'This is one of the sample example of using docstrings to descrive a funciton'"
      ]
     },
     "execution_count": 73,
     "metadata": {},
     "output_type": "execute_result"
    }
   ],
   "source": [
    "my_function.__doc__"
   ]
  },
  {
   "cell_type": "code",
   "execution_count": null,
   "metadata": {},
   "outputs": [
    {
     "name": "stdout",
     "output_type": "stream",
     "text": [
      "Help on function my_function in module __main__:\n",
      "\n",
      "my_function()\n",
      "    This is one of the sample example of using docstrings to descrive a funciton\n",
      "\n"
     ]
    }
   ],
   "source": [
    "help(my_function)"
   ]
  },
  {
   "cell_type": "markdown",
   "metadata": {},
   "source": [
    "### Numpydoc Style Docstrings"
   ]
  },
  {
   "cell_type": "code",
   "execution_count": null,
   "metadata": {},
   "outputs": [],
   "source": [
    "def add_function(a,b):\n",
    "    \"\"\"\n",
    "    Adds two numbers together\n",
    "\n",
    "    Parameters\n",
    "    -----------------\n",
    "    a : int\n",
    "    b : int\n",
    "    \n",
    "    Returns\n",
    "    ---------\n",
    "    int\n",
    "        The sum of two numbers\n",
    "    \n",
    "    \"\"\"\n",
    "\n",
    "    return a+b"
   ]
  },
  {
   "cell_type": "code",
   "execution_count": null,
   "metadata": {},
   "outputs": [
    {
     "name": "stdout",
     "output_type": "stream",
     "text": [
      "3\n"
     ]
    }
   ],
   "source": [
    "print(add_function(1,2))"
   ]
  },
  {
   "cell_type": "code",
   "execution_count": null,
   "metadata": {},
   "outputs": [
    {
     "name": "stdout",
     "output_type": "stream",
     "text": [
      "Help on function add_function in module __main__:\n",
      "\n",
      "add_function(a, b)\n",
      "    Adds two numbers together\n",
      "    \n",
      "    Parameters\n",
      "    -----------------\n",
      "    a : int\n",
      "    b : int\n",
      "    \n",
      "    Returns\n",
      "    ---------\n",
      "    int\n",
      "        The sum of two numbers\n",
      "\n"
     ]
    }
   ],
   "source": [
    "help(add_function)"
   ]
  },
  {
   "cell_type": "code",
   "execution_count": null,
   "metadata": {},
   "outputs": [
    {
     "name": "stdout",
     "output_type": "stream",
     "text": [
      "X value: 6 \n",
      "Y value: -3\n"
     ]
    }
   ],
   "source": [
    "class Point:\n",
    "    \"\"\"\n",
    "    This is a class for creating 2D points.\n",
    " \n",
    "    Attributes:\n",
    "        x (int): The x-coordinate of the point.\n",
    "        y (int): The y-coordinate of the point.\n",
    "    \"\"\"\n",
    "\n",
    "    def __init__(self, x, y):\n",
    "        \"\"\"\n",
    "        The constructor for the Point class.\n",
    " \n",
    "        Parameters:\n",
    "            x (int): The x-coordinate of the point.\n",
    "            y (int): The y-coordinate of the point.\n",
    "        \"\"\"\n",
    "        self.x = x\n",
    "        self.y = y\n",
    "\n",
    "    def __add__(self, another_point):\n",
    "        \"\"\"\n",
    "        Adds two Point objects.\n",
    " \n",
    "        Parameters:\n",
    "            another_point (Point): The point to be added.\n",
    " \n",
    "        Returns:\n",
    "            Point: A point which is the sum of the two points.\n",
    "        \"\"\"\n",
    "        return Point(self.x + another_point.x, self.y+ another_point.y)\n",
    "    \n",
    "    def __repr__(self):\n",
    "        \"\"\"\n",
    "        Represents the Point object as a string.\n",
    "        \n",
    "        Returns:\n",
    "            str: A string representation of the point.\n",
    "        \"\"\"\n",
    "        return \"X value: {} \\nY value: {}\".format(self.x, self.y)\n",
    "\n",
    "# Example usage\n",
    "point1 = Point(1, 2)\n",
    "point2 = Point(5, -5)\n",
    "print(point1 + point2)\n"
   ]
  },
  {
   "cell_type": "code",
   "execution_count": null,
   "metadata": {},
   "outputs": [
    {
     "name": "stdout",
     "output_type": "stream",
     "text": [
      "Help on class Point in module __main__:\n",
      "\n",
      "class Point(builtins.object)\n",
      " |  Point(x, y)\n",
      " |  \n",
      " |  This is a class for creating 2D points.\n",
      " |  \n",
      " |  Attributes:\n",
      " |      x (int): The x-coordinate of the point.\n",
      " |      y (int): The y-coordinate of the point.\n",
      " |  \n",
      " |  Methods defined here:\n",
      " |  \n",
      " |  __add__(self, another_point)\n",
      " |      Adds two Point objects.\n",
      " |      \n",
      " |      Parameters:\n",
      " |          another_point (Point): The point to be added.\n",
      " |      \n",
      " |      Returns:\n",
      " |          Point: A point which is the sum of the two points.\n",
      " |  \n",
      " |  __init__(self, x, y)\n",
      " |      The constructor for the Point class.\n",
      " |      \n",
      " |      Parameters:\n",
      " |          x (int): The x-coordinate of the point.\n",
      " |          y (int): The y-coordinate of the point.\n",
      " |  \n",
      " |  __repr__(self)\n",
      " |      Represents the Point object as a string.\n",
      " |      \n",
      " |      Returns:\n",
      " |          str: A string representation of the point.\n",
      " |  \n",
      " |  ----------------------------------------------------------------------\n",
      " |  Data descriptors defined here:\n",
      " |  \n",
      " |  __dict__\n",
      " |      dictionary for instance variables (if defined)\n",
      " |  \n",
      " |  __weakref__\n",
      " |      list of weak references to the object (if defined)\n",
      "\n"
     ]
    }
   ],
   "source": [
    "help(Point)"
   ]
  },
  {
   "cell_type": "markdown",
   "metadata": {},
   "source": [
    "## Python Modules"
   ]
  },
  {
   "cell_type": "markdown",
   "metadata": {},
   "source": [
    "Lets create a python module\n",
    "\n",
    "\n",
    "**my_func.py**\n",
    "```python\n",
    "name = Ram\n",
    "age = 18\n",
    "\n",
    "def say_name():\n",
    "    print(name)\n",
    "\n",
    "def say_age():\n",
    "    print(age)\n",
    "```"
   ]
  },
  {
   "cell_type": "markdown",
   "metadata": {},
   "source": [
    "**Now to import the module we do the following and access the variables or function**\n",
    "**main.py**\n",
    "```python\n",
    "import my_func\n",
    "\n",
    "if __name__ == '__main__' :\n",
    "    my_func.say_name()\n",
    "    my_func.say_age()\n",
    "```\n",
    "\n",
    "In the bash\n",
    "```bash\n",
    "python main.py\n",
    "```\n"
   ]
  },
  {
   "cell_type": "markdown",
   "metadata": {},
   "source": [
    "To access function or variables , we use `.` operator on the imported module.If we want to bring everything within the module into the current namespace we do\n",
    "\n",
    "```python\n",
    "from my_func import *\n",
    "```\n",
    "\n",
    "Now we can access the function without using `.` operator.\n"
   ]
  },
  {
   "cell_type": "markdown",
   "metadata": {},
   "source": [
    "> It is better to avoid importing like this , as there can be name clashes between modules."
   ]
  },
  {
   "cell_type": "markdown",
   "metadata": {},
   "source": [
    "### Assigning Alias"
   ]
  },
  {
   "cell_type": "markdown",
   "metadata": {},
   "source": [
    "```python\n",
    "import my_finc as mf\n",
    "```"
   ]
  },
  {
   "cell_type": "markdown",
   "metadata": {},
   "source": [
    "## Python Virtual Environment"
   ]
  },
  {
   "cell_type": "markdown",
   "metadata": {},
   "source": [
    "They are like container for python packages. There can be multiple virtual environment of different python versions and package versions. Any changes on dependencies installed in a virtual environment don't affect the dependencies fo other virtual environment."
   ]
  },
  {
   "cell_type": "markdown",
   "metadata": {},
   "source": [
    "**Creating Virtual Environment**\n",
    "\n",
    "```bash\n",
    "$ python -m venv /path/to/new/virtual/environment\n",
    "```"
   ]
  },
  {
   "cell_type": "markdown",
   "metadata": {},
   "source": [
    "Now, to activate the virtual environment \n",
    "\n",
    "```bash\n",
    "$ source venv_name/bin/activate\n",
    "```\n",
    "\n",
    "After the virtual environment is activated , we get the name of venv as this\n",
    "\n",
    "```bash\n",
    "(ekbana) ekbanaswodesh@nitroV:~/Documents/EKbana/swodeshsharma$ \n",
    "```\n"
   ]
  },
  {
   "cell_type": "markdown",
   "metadata": {},
   "source": [
    "### Pip list"
   ]
  },
  {
   "cell_type": "markdown",
   "metadata": {},
   "source": [
    "To view the installed packages we type the following commands\n",
    "\n",
    "```bash\n",
    "$ pip list\n",
    "```\n",
    "\n",
    "Then we get the list of our installed package as this\n",
    "\n",
    "```\n",
    "Package                   Version\n",
    "------------------------- -----------\n",
    "asttokens                 2.4.1\n",
    "attrs                     23.2.0\n",
    "beautifulsoup4            4.12.3\n",
    "bleach                    6.1.0\n",
    "comm                      0.2.2\n",
    "contourpy                 1.2.1\n",
    "cycler                    0.12.1\n",
    "debugpy                   1.8.1\n",
    "decorator                 5.1.1\n",
    "defusedxml                0.7.1\n",
    "exceptiongroup            1.2.1\n",
    "executing                 2.0.1\n",
    "fastjsonschema            2.19.1\n",
    "filelock                  3.13.1\n",
    "fonttools                 4.51.0\n",
    "fsspec                    2024.2.0\n",
    "...\n",
    "```\n"
   ]
  },
  {
   "cell_type": "markdown",
   "metadata": {},
   "source": [
    "We can export this list as a txt file using `pip freeze`\n",
    "\n",
    "\n",
    "```bash\n",
    "$ pip freeze > requirements.txt\n",
    "```"
   ]
  },
  {
   "cell_type": "markdown",
   "metadata": {},
   "source": [
    "We can circulate this `requirements.txt` can recreate the virtual environment.\n",
    "```bash\n",
    "$ pip install -r requirements.txt \n",
    "```\n"
   ]
  },
  {
   "cell_type": "markdown",
   "metadata": {},
   "source": [
    "To deactivate a python virtual environment\n",
    "\n",
    "```bash\n",
    "$ deactivate\n",
    "```"
   ]
  },
  {
   "cell_type": "markdown",
   "metadata": {},
   "source": [
    "## Python Exception Handling"
   ]
  },
  {
   "cell_type": "markdown",
   "metadata": {},
   "source": [
    "Errors can be either syntax or exception. Exception are raise when some internal unexpected event occurs that change the normal flow of the program.ie they are raised when the program is syntactically correct, but the code results in an error.\n",
    "\n",
    "These exception can be raised when an error occurs during the execution of the program.\n",
    "\n",
    "Some common types of exceptions in Python are :\n",
    "* SyntaxError\n",
    "* TypeError\n",
    "* NameError\n",
    "* IndexError\n",
    "* KeyError\n",
    "* ValueError\n",
    "* AttributeError\n",
    "* IOError\n",
    "* ZeroDivisionError\n",
    "* ImportError"
   ]
  },
  {
   "cell_type": "markdown",
   "metadata": {},
   "source": [
    "**Advantages of exception handling**\n",
    "\n",
    "* Increases program reliability\n",
    "* Cleaner Code\n",
    "* Easier Debugging\n",
    "\n",
    "**Disadvantages**\n",
    "* Slower than conditional statements\n",
    "* Security risks as it can reveal important security vulnerabilities"
   ]
  },
  {
   "cell_type": "markdown",
   "metadata": {},
   "source": [
    "```python\n",
    "def reciprocal(x):\n",
    "    return 1/x\n",
    "\n",
    "reciprocal(0)\n",
    "```\n",
    "\n",
    "> ZeroDivisionError: division by zero\n"
   ]
  },
  {
   "cell_type": "markdown",
   "metadata": {},
   "source": [
    "\n",
    "In such case we can try to catch these errors without stopping the flow of the program"
   ]
  },
  {
   "cell_type": "code",
   "execution_count": null,
   "metadata": {},
   "outputs": [
    {
     "name": "stdout",
     "output_type": "stream",
     "text": [
      "You cant divide by zero\n"
     ]
    }
   ],
   "source": [
    "def reciprocal(x):\n",
    "    return 1/x\n",
    "\n",
    "try:\n",
    "    reciprocal(0)\n",
    "except :\n",
    "    print(\"You cant divide by zero\")\n",
    "    \n"
   ]
  },
  {
   "cell_type": "markdown",
   "metadata": {},
   "source": [
    "### Try with Else Clause"
   ]
  },
  {
   "cell_type": "code",
   "execution_count": null,
   "metadata": {},
   "outputs": [
    {
     "name": "stdout",
     "output_type": "stream",
     "text": [
      "You cant divide by zero\n",
      "None\n",
      "0.2\n"
     ]
    }
   ],
   "source": [
    "def reciprocal(x):\n",
    "    try:\n",
    "        c = 1/x\n",
    "    except :\n",
    "        print(\"You cant divide by zero\")\n",
    "    else :\n",
    "        return c\n",
    "\n",
    "\n",
    "print(reciprocal(0))\n",
    "print(reciprocal(5))"
   ]
  },
  {
   "cell_type": "markdown",
   "metadata": {},
   "source": [
    "`Finally` Keyword"
   ]
  },
  {
   "cell_type": "code",
   "execution_count": null,
   "metadata": {},
   "outputs": [
    {
     "name": "stdout",
     "output_type": "stream",
     "text": [
      "You cant divide by zero\n",
      "This is always executed\n"
     ]
    }
   ],
   "source": [
    "def reciprocal(x):\n",
    "    return 1/x\n",
    "\n",
    "try:\n",
    "    reciprocal(0)\n",
    "except :\n",
    "    print(\"You cant divide by zero\")\n",
    "finally :\n",
    "    print('This is always executed')    \n"
   ]
  },
  {
   "cell_type": "markdown",
   "metadata": {},
   "source": [
    "### Raising Exception"
   ]
  },
  {
   "cell_type": "markdown",
   "metadata": {},
   "source": [
    "`raise` statement allows to raise exception error"
   ]
  },
  {
   "cell_type": "code",
   "execution_count": null,
   "metadata": {},
   "outputs": [
    {
     "name": "stdout",
     "output_type": "stream",
     "text": [
      "Raising exception test complete\n"
     ]
    }
   ],
   "source": [
    "try:\n",
    "    raise NameError('Raising Exception Test')\n",
    "except NameError:\n",
    "    print(\"Raising exception test complete\")"
   ]
  },
  {
   "cell_type": "markdown",
   "metadata": {},
   "source": [
    "## Reading and Parsing"
   ]
  },
  {
   "cell_type": "markdown",
   "metadata": {},
   "source": [
    "Each file has their line ended with special character called `EOL` or `End of Line` characters like comma {,}"
   ]
  },
  {
   "cell_type": "markdown",
   "metadata": {},
   "source": [
    "To open a file we have python inbuilt function `open()`\n",
    "```python\n",
    "f = open(filename,mode)\n",
    "```\n",
    "| Mode | Description |\n",
    "|------|-------------|\n",
    "| r    | Open an existing file for a read operation. |\n",
    "| w    | Open an existing file for a write operation. If the file already contains some data, then it will be overridden, but if the file is not present, it creates the file as well. |\n",
    "| a    | Open an existing file for append operation. It won’t override existing data. |\n",
    "| r+   | To read and write data into the file. The previous data in the file will be overridden. |\n",
    "| w+   | To write and read data. It will override existing data. |\n",
    "| a+   | To append and read data from the file. It won’t override existing data. |\n",
    "\n"
   ]
  },
  {
   "cell_type": "code",
   "execution_count": null,
   "metadata": {},
   "outputs": [
    {
     "name": "stdout",
     "output_type": "stream",
     "text": [
      "Hello my name is Swodesh Sharma\n",
      "\n",
      "I am 22 years old\n",
      "\n",
      "I am doing file handling practice in python.\n"
     ]
    }
   ],
   "source": [
    "file = open('files/file_practice.txt','r')\n",
    "for char in file :\n",
    "    print(char)"
   ]
  },
  {
   "cell_type": "code",
   "execution_count": null,
   "metadata": {},
   "outputs": [
    {
     "name": "stdout",
     "output_type": "stream",
     "text": [
      "Hello my name is Swodesh Sharma\n",
      "I am 22 years old\n",
      "I am doing file handling practice in python.\n"
     ]
    }
   ],
   "source": [
    "file = open('files/file_practice.txt','r')\n",
    "print(file.read())"
   ]
  },
  {
   "cell_type": "code",
   "execution_count": null,
   "metadata": {},
   "outputs": [
    {
     "name": "stdout",
     "output_type": "stream",
     "text": [
      "Hello my name is Swodesh Sharma\n",
      "I am 22 years old\n",
      "I am doing file handling practice in python.\n"
     ]
    }
   ],
   "source": [
    "with open(\"files/file_practice.txt\") as file :\n",
    "    data = file.read()\n",
    "\n",
    "print(data)"
   ]
  },
  {
   "cell_type": "markdown",
   "metadata": {},
   "source": [
    "`Reading first N characters`"
   ]
  },
  {
   "cell_type": "code",
   "execution_count": null,
   "metadata": {},
   "outputs": [
    {
     "name": "stdout",
     "output_type": "stream",
     "text": [
      "Hello my n\n"
     ]
    }
   ],
   "source": [
    "file = open('files/file_practice.txt','r')\n",
    "print(file.read(10))"
   ]
  },
  {
   "cell_type": "markdown",
   "metadata": {},
   "source": [
    "`Splitting Lines`"
   ]
  },
  {
   "cell_type": "code",
   "execution_count": null,
   "metadata": {},
   "outputs": [
    {
     "name": "stdout",
     "output_type": "stream",
     "text": [
      "['Hello', 'my', 'name', 'is', 'Swodesh', 'Sharma']\n",
      "['I', 'am', '22', 'years', 'old']\n",
      "['I', 'am', 'doing', 'file', 'handling', 'practice', 'in', 'python.']\n"
     ]
    }
   ],
   "source": [
    "\n",
    "with open('files/file_practice.txt', \"r\") as file:\n",
    "\tdata = file.readlines()\n",
    "\tfor line in data:\n",
    "\t\tword = line.split()\n",
    "\t\tprint (word)\n"
   ]
  },
  {
   "cell_type": "markdown",
   "metadata": {},
   "source": [
    "Creating a file using `write()`"
   ]
  },
  {
   "cell_type": "code",
   "execution_count": null,
   "metadata": {},
   "outputs": [],
   "source": [
    "file = open('files/file_practice.txt','w')\n",
    "file.write(\"I am writing on to the file \\n\")\n",
    "file.write(\"Since we are writing only this deltes the previous contents\")\n",
    "file.close()\n"
   ]
  },
  {
   "cell_type": "code",
   "execution_count": null,
   "metadata": {},
   "outputs": [
    {
     "name": "stdout",
     "output_type": "stream",
     "text": [
      "I am writing on to the file \n",
      "Since we are writing only this deltes the previous contents\n"
     ]
    }
   ],
   "source": [
    "with open(\"files/file_practice.txt\") as file :\n",
    "    data = file.read()\n",
    "\n",
    "print(data)"
   ]
  },
  {
   "cell_type": "markdown",
   "metadata": {},
   "source": [
    "`append()`\n",
    "\n",
    "This opens the file in append mode and doesn't delete previous contents"
   ]
  },
  {
   "cell_type": "code",
   "execution_count": null,
   "metadata": {},
   "outputs": [],
   "source": [
    " \n",
    "file = open('files/file_practice.txt', 'a')\n",
    "file.write(\"\\n This will add this line\")\n",
    "file.close()\n"
   ]
  },
  {
   "cell_type": "code",
   "execution_count": null,
   "metadata": {},
   "outputs": [
    {
     "name": "stdout",
     "output_type": "stream",
     "text": [
      "I am writing on to the file \n",
      "Since we are writing only this deltes the previous contents\n",
      " This will add this line\n"
     ]
    }
   ],
   "source": [
    "with open(\"files/file_practice.txt\") as file :\n",
    "    data = file.read()\n",
    "\n",
    "print(data)"
   ]
  },
  {
   "cell_type": "markdown",
   "metadata": {},
   "source": [
    "When reading and writing we have different methods such as : \n",
    "\n",
    "`read()` : It reads the entire content fo the file as a single string  \n",
    "\n",
    "`readline()` : Reads one line at a time from the file\n",
    "\n",
    "`readlines()` : reads all line in a file and returns them as a list"
   ]
  },
  {
   "cell_type": "markdown",
   "metadata": {},
   "source": [
    "### File handling for JSON files"
   ]
  },
  {
   "cell_type": "markdown",
   "metadata": {},
   "source": [
    "JSON stands fro JavaScript Object Notation.\n",
    "\n",
    "We can manipulate and parse json file by importing json module\n",
    "\n",
    "```python\n",
    "import json\n",
    "```"
   ]
  },
  {
   "cell_type": "markdown",
   "metadata": {},
   "source": [
    "`Reading a JSON file`"
   ]
  },
  {
   "cell_type": "code",
   "execution_count": 207,
   "metadata": {},
   "outputs": [
    {
     "name": "stdout",
     "output_type": "stream",
     "text": [
      "{'people': [{'firstName': 'Joe', 'lastName': 'Jackson', 'gender': 'male', 'age': 28, 'number': '7349282382'}, {'firstName': 'James', 'lastName': 'Smith', 'gender': 'male', 'age': 32, 'number': '5678568567'}, {'firstName': 'Emily', 'lastName': 'Jones', 'gender': 'female', 'age': 24, 'number': '456754675'}]}\n"
     ]
    }
   ],
   "source": [
    "with open('files/sample.json') as file:\n",
    "    data = json.load(file)\n",
    "    print(data)"
   ]
  },
  {
   "cell_type": "markdown",
   "metadata": {},
   "source": [
    "Various Functions of JSON Module :\n",
    "\n",
    "| Function     | Description                                                                                           |\n",
    "|--------------|-------------------------------------------------------------------------------------------------------|\n",
    "| `json.load()`  | This function loads JSON data from a file-like object and converts it into a Python object. This function is particularly useful when you need to parse a JSON file in Python and manipulate it within your program. |\n",
    "| `json.loads()` | It is used to parse a JSON string and convert it into a Python object.                                                       |\n",
    "| `json.dump()`  | This function writes Python data into a JSON file.                                                                           |\n",
    "| `json.dumps()` | This is used to convert a Python object (like a dictionary) into a JSON formatted string.                                        |\n"
   ]
  },
  {
   "cell_type": "markdown",
   "metadata": {},
   "source": [
    "Parsing JSON Strings with `json.loads()`"
   ]
  },
  {
   "cell_type": "code",
   "execution_count": 204,
   "metadata": {},
   "outputs": [
    {
     "name": "stdout",
     "output_type": "stream",
     "text": [
      "{'name': 'Swodesh', 'age': 22, 'city': 'kathmandu'}\n"
     ]
    }
   ],
   "source": [
    "# Parsing a JSON string into a Python object\n",
    "json_string = '{\"name\": \"Swodesh\", \"age\": 22, \"city\": \"kathmandu\"}'\n",
    "parsed_data = json.loads(json_string)\n",
    "print(parsed_data)"
   ]
  },
  {
   "cell_type": "markdown",
   "metadata": {},
   "source": [
    "**Writing to jSON file**"
   ]
  },
  {
   "cell_type": "markdown",
   "metadata": {},
   "source": [
    "`json.dump()` function writes python data into a JSON file in JSON format."
   ]
  },
  {
   "cell_type": "code",
   "execution_count": 206,
   "metadata": {},
   "outputs": [
    {
     "name": "stdout",
     "output_type": "stream",
     "text": [
      "{'name': 'Swodesh', 'age': 22, 'city': 'kathmandu'}\n"
     ]
    }
   ],
   "source": [
    "data = {\"name\": \"Swodesh\", \"age\": 22, \"city\": \"kathmandu\"}\n",
    "with open('files/output.json', 'w') as file:\n",
    "    json.dump(data, file)\n",
    "with open('files/output.json') as file:\n",
    "    data = json.load(file)\n",
    "    print(data)"
   ]
  },
  {
   "cell_type": "markdown",
   "metadata": {},
   "source": [
    "Python Objects and Equivalent JSON Representations"
   ]
  },
  {
   "cell_type": "markdown",
   "metadata": {},
   "source": [
    "\n",
    "| Python Object | Equivalent JSON Representation |\n",
    "|----------------|-------------------------------|\n",
    "| Dictionary     | Object                        |\n",
    "| List           | Array                         |\n",
    "| Tuple          | Array                         |\n",
    "| String         | String                        |\n",
    "| Integer        | Number                        |\n",
    "| Float          | Number                        |\n",
    "| True           | true                          |\n",
    "| False          | false                         |\n",
    "| None           | null                          |"
   ]
  },
  {
   "cell_type": "markdown",
   "metadata": {},
   "source": [
    "### REAMINING YAML, PICKLE, CSV"
   ]
  },
  {
   "cell_type": "markdown",
   "metadata": {},
   "source": [
    "## Lambda function"
   ]
  },
  {
   "cell_type": "markdown",
   "metadata": {},
   "source": [
    "They are anonymous function without a name. `lambda` keyword is used to define an anonymous function in python."
   ]
  },
  {
   "cell_type": "markdown",
   "metadata": {},
   "source": [
    "Defining a `Lambda Function`\n",
    "\n",
    "```python\n",
    "lambda argument(S) : expression\n",
    "```\n",
    "\n",
    "Though there isn't `return` keyword it will automatically return the result of the expression"
   ]
  },
  {
   "cell_type": "markdown",
   "metadata": {},
   "source": [
    "**Example**\n",
    "\n",
    "Lets write a normal function and implement it in lambda function"
   ]
  },
  {
   "cell_type": "code",
   "execution_count": 209,
   "metadata": {},
   "outputs": [
    {
     "name": "stdout",
     "output_type": "stream",
     "text": [
      "4\n"
     ]
    }
   ],
   "source": [
    "def my_func(x):\n",
    "    return x**2\n",
    "\n",
    "print(my_func(2))"
   ]
  },
  {
   "cell_type": "markdown",
   "metadata": {},
   "source": [
    "Now the same function in lambda function is as"
   ]
  },
  {
   "cell_type": "code",
   "execution_count": 211,
   "metadata": {},
   "outputs": [
    {
     "name": "stdout",
     "output_type": "stream",
     "text": [
      "4\n"
     ]
    }
   ],
   "source": [
    "print((lambda x : x**2)(2))"
   ]
  },
  {
   "cell_type": "markdown",
   "metadata": {},
   "source": [
    "Since lambda function doesn't have a name we have to enclose the whole statement when we want to call it."
   ]
  },
  {
   "cell_type": "markdown",
   "metadata": {},
   "source": [
    "### Lambda function with iterables\n",
    "\n",
    "Iterables are anything that consists fo a series of values, such as characters, numbers, and so on. Lists, dictionaries, ranges, tuples are some of examples of iterables"
   ]
  },
  {
   "cell_type": "code",
   "execution_count": 218,
   "metadata": {},
   "outputs": [],
   "source": [
    "my_list = [1,2,3,4,5,6,7,8,9]"
   ]
  },
  {
   "cell_type": "markdown",
   "metadata": {},
   "source": [
    "Lets say we want to find the number that are divisible by 2. Then if we use for loop we can do it like this :"
   ]
  },
  {
   "cell_type": "code",
   "execution_count": 220,
   "metadata": {},
   "outputs": [
    {
     "name": "stdout",
     "output_type": "stream",
     "text": [
      "[2, 4, 6, 8]\n"
     ]
    }
   ],
   "source": [
    "def check(x):\n",
    "    if x%2 == 0 :\n",
    "        return True\n",
    "    else :\n",
    "        return False\n",
    "\n",
    "div_list = []\n",
    "for i in my_list:\n",
    "    if check(i):\n",
    "        div_list.append(i)\n",
    "\n",
    "print(div_list)"
   ]
  },
  {
   "cell_type": "markdown",
   "metadata": {},
   "source": [
    "We can see it is a tedious. So we can reduce this with a `filter` function. If we want to focus on specifig values in an iterable we use `filter()` function."
   ]
  },
  {
   "cell_type": "code",
   "execution_count": 222,
   "metadata": {},
   "outputs": [
    {
     "name": "stdout",
     "output_type": "stream",
     "text": [
      "[2, 4, 6, 8]\n"
     ]
    }
   ],
   "source": [
    "print(list(filter(check,my_list)))"
   ]
  },
  {
   "cell_type": "markdown",
   "metadata": {},
   "source": [
    "We can make this even shorter using lambda function"
   ]
  },
  {
   "cell_type": "code",
   "execution_count": 225,
   "metadata": {},
   "outputs": [
    {
     "data": {
      "text/plain": [
       "[2, 4, 6, 8]"
      ]
     },
     "execution_count": 225,
     "metadata": {},
     "output_type": "execute_result"
    }
   ],
   "source": [
    "list(filter(lambda x : x%2 == 0 , my_list))"
   ]
  },
  {
   "cell_type": "markdown",
   "metadata": {},
   "source": [
    "Similarly if we want to modify the whole list. Lets say we want to square the whole list it can be done as :"
   ]
  },
  {
   "cell_type": "code",
   "execution_count": 226,
   "metadata": {},
   "outputs": [
    {
     "data": {
      "text/plain": [
       "[1, 4, 9, 16, 25, 36, 49, 64, 81]"
      ]
     },
     "execution_count": 226,
     "metadata": {},
     "output_type": "execute_result"
    }
   ],
   "source": [
    "list(map(lambda x : x**2 , my_list))"
   ]
  },
  {
   "cell_type": "markdown",
   "metadata": {},
   "source": [
    "## map() , filter() , reduce()"
   ]
  },
  {
   "cell_type": "markdown",
   "metadata": {},
   "source": [
    "These are the higher order functions which take other function as the parameter.\n",
    "\n",
    "By combining user defined function with these, we can easily apply transformations, filters and aggregations efficiently."
   ]
  },
  {
   "cell_type": "markdown",
   "metadata": {},
   "source": [
    "**map() function**\n",
    "\n",
    "syntax\n",
    "```python\n",
    "map(function, iterables)\n",
    "```\n",
    "\n",
    "Examples :"
   ]
  },
  {
   "cell_type": "code",
   "execution_count": 227,
   "metadata": {},
   "outputs": [
    {
     "data": {
      "text/plain": [
       "[8, 27, 64, 125, 216, 343]"
      ]
     },
     "execution_count": 227,
     "metadata": {},
     "output_type": "execute_result"
    }
   ],
   "source": [
    "my_list = [2,3,4,5,6,7]\n",
    "list(map(lambda x : x**3 , my_list))"
   ]
  },
  {
   "cell_type": "markdown",
   "metadata": {},
   "source": [
    "**filter() function**\n",
    "\n",
    "syntax\n",
    "```python\n",
    "filter(function, iterables)\n",
    "```\n",
    "\n",
    "Examples :"
   ]
  },
  {
   "cell_type": "code",
   "execution_count": 228,
   "metadata": {},
   "outputs": [
    {
     "data": {
      "text/plain": [
       "[3, 6, 9]"
      ]
     },
     "execution_count": 228,
     "metadata": {},
     "output_type": "execute_result"
    }
   ],
   "source": [
    "my_list = [1,2,3,4,5,6,7,8,9]\n",
    "list(filter(lambda x : x%3 == 0 , my_list))"
   ]
  },
  {
   "cell_type": "markdown",
   "metadata": {},
   "source": [
    "**reduce() function**"
   ]
  },
  {
   "cell_type": "markdown",
   "metadata": {},
   "source": [
    "It applied a provided function to 'iterables' and returns a single value\n",
    "\n",
    "For example if we want to find the multiplication of a numbers inside the list.\n",
    "\n",
    "lets say our list is like [a,b,c,d,e,f,g]. Then when we apply `reduce`with function that multiplies the two numbers together then. Reduce function first finds the product of a and b and the result is done product with c and so on.\n",
    "\n",
    "To utilize `reduce`, we have to import it from `functools`"
   ]
  },
  {
   "cell_type": "code",
   "execution_count": 230,
   "metadata": {},
   "outputs": [
    {
     "data": {
      "text/plain": [
       "362880"
      ]
     },
     "execution_count": 230,
     "metadata": {},
     "output_type": "execute_result"
    }
   ],
   "source": [
    "from functools import reduce\n",
    "my_list = [1,2,3,4,5,6,7,8,9]\n",
    "reduce(lambda a,b: a*b, my_list)"
   ]
  },
  {
   "cell_type": "markdown",
   "metadata": {},
   "source": [
    "```mermaid\n",
    "graph TD\n",
    "    A --> E\n",
    "    B --> E\n",
    "    C --> F\n",
    "    E --> F\n",
    "    D --> G\n",
    "    F --> G \n",
    "```"
   ]
  },
  {
   "cell_type": "markdown",
   "metadata": {},
   "source": [
    "## Decorators and Wrappers"
   ]
  },
  {
   "cell_type": "markdown",
   "metadata": {},
   "source": [
    "### First Class Citizens\n",
    "\n",
    "Any object that can be assigned to a vairable, passed as an argument, returned from a function are considerede as a first class citizen.Eg, int , float, string ,etc In python `function` itself is also a first class citizens.\n"
   ]
  },
  {
   "cell_type": "markdown",
   "metadata": {},
   "source": [
    "**Assigning function to varibales**"
   ]
  },
  {
   "cell_type": "code",
   "execution_count": 232,
   "metadata": {},
   "outputs": [
    {
     "name": "stdout",
     "output_type": "stream",
     "text": [
      "Hello Ram\n"
     ]
    }
   ],
   "source": [
    "def say_hello(name):\n",
    "    print(\"Hello {}\".format(name))\n",
    "\n",
    "func = say_hello\n",
    "func(\"Ram\")"
   ]
  },
  {
   "cell_type": "markdown",
   "metadata": {},
   "source": [
    "**Returning function from other function**"
   ]
  },
  {
   "cell_type": "code",
   "execution_count": 233,
   "metadata": {},
   "outputs": [
    {
     "name": "stdout",
     "output_type": "stream",
     "text": [
      "Hello Hari\n"
     ]
    }
   ],
   "source": [
    "def outer_func():\n",
    "    def say_hello(name):\n",
    "        print(\"Hello {}\".format(name))\n",
    "    return say_hello\n",
    "\n",
    "var = outer_func()\n",
    "var('Hari')"
   ]
  },
  {
   "cell_type": "markdown",
   "metadata": {},
   "source": [
    "**Nesting of function**\n",
    "\n",
    "Nesting refers to defining a funciton within another function and the inner function can access the outer function variables.\n",
    "\n",
    "In the below example , the inner funciton has access to local scope values.`name` is the local scope variable."
   ]
  },
  {
   "cell_type": "code",
   "execution_count": 235,
   "metadata": {},
   "outputs": [
    {
     "name": "stdout",
     "output_type": "stream",
     "text": [
      "Outer function. Hello Ram\n",
      "Inner function. Hello Ram\n"
     ]
    }
   ],
   "source": [
    "def outer_func(name):\n",
    "    def inner_func():\n",
    "        print(\"Inner function. Hello {}\".format(name))\n",
    "    print(\"Outer function. Hello {}\".format(name))\n",
    "    inner_func()\n",
    "\n",
    "outer_func('Ram')"
   ]
  },
  {
   "cell_type": "markdown",
   "metadata": {},
   "source": [
    "**Nonlocal Scope**"
   ]
  },
  {
   "cell_type": "markdown",
   "metadata": {},
   "source": [
    "They are neither local nor global"
   ]
  },
  {
   "cell_type": "code",
   "execution_count": 241,
   "metadata": {},
   "outputs": [
    {
     "name": "stdout",
     "output_type": "stream",
     "text": [
      "Inner function. Hello Shyam\n",
      "Outer function. Hello Ram\n"
     ]
    }
   ],
   "source": [
    "def outer_func(name):\n",
    "    def inner_func():\n",
    "        name = 'Shyam'\n",
    "        print(\"Inner function. Hello {}\".format(name))\n",
    "    inner_func()\n",
    "    print(\"Outer function. Hello {}\".format(name))\n",
    "   \n",
    "outer_func('Ram')"
   ]
  },
  {
   "cell_type": "markdown",
   "metadata": {},
   "source": [
    "We can see , though the inner function tried to change the name to 'Shyam' it didn't change the value outside the inner function. Because the `name = 'Shyam` became the local variable for the `inner_func()`. And once it was executed it got deleted.\n",
    "\n",
    "So, if we want to make sure it is non local we do like this"
   ]
  },
  {
   "cell_type": "code",
   "execution_count": 242,
   "metadata": {},
   "outputs": [
    {
     "name": "stdout",
     "output_type": "stream",
     "text": [
      "Inner function. Hello Shyam\n",
      "Outer function. Hello Shyam\n"
     ]
    }
   ],
   "source": [
    "def outer_func(name):\n",
    "    def inner_func():\n",
    "        nonlocal name\n",
    "        name = 'Shyam'\n",
    "        print(\"Inner function. Hello {}\".format(name))\n",
    "    inner_func()\n",
    "    print(\"Outer function. Hello {}\".format(name))\n",
    "   \n",
    "outer_func('Ram')"
   ]
  },
  {
   "cell_type": "markdown",
   "metadata": {},
   "source": [
    "Thus changing the value of local variable will also be reflected in local scope."
   ]
  },
  {
   "cell_type": "markdown",
   "metadata": {},
   "source": [
    "**Closures in python**\n",
    "\n",
    "They are function objects that remember values in enclosing scopes even if they are not present in memory."
   ]
  },
  {
   "cell_type": "code",
   "execution_count": 245,
   "metadata": {},
   "outputs": [
    {
     "name": "stdout",
     "output_type": "stream",
     "text": [
      "food for brain\n"
     ]
    }
   ],
   "source": [
    " def outer(text):\n",
    "  # \"enclosing function\"\n",
    "   def inner():\n",
    "    # \"nested function\"\n",
    "     print(text)\n",
    "   return inner\n",
    "var = outer('food for brain')\n",
    "var()\n"
   ]
  },
  {
   "cell_type": "markdown",
   "metadata": {},
   "source": [
    "### Decorators"
   ]
  },
  {
   "cell_type": "markdown",
   "metadata": {},
   "source": [
    "Lets say we have a function that says `hello everyone`. We define it as\n",
    "\n",
    "\n",
    "```python\n",
    "def say_hello():\n",
    "    return \"hello everyone\"\n",
    "```\n",
    "\n",
    "Now if we want to modify the function / decorate it to display Capitalized `HELLO WORLD`. we can do it like this."
   ]
  },
  {
   "cell_type": "code",
   "execution_count": 249,
   "metadata": {},
   "outputs": [
    {
     "name": "stdout",
     "output_type": "stream",
     "text": [
      "HELLO EVERYONE\n"
     ]
    }
   ],
   "source": [
    "def say_hello():\n",
    "    return \"hello everyone\"\n",
    "\n",
    "def outer_func(func):\n",
    "    def inner_func():\n",
    "        msg = func()\n",
    "        return msg.upper()\n",
    "    return inner_func\n",
    "\n",
    "say_hello = outer_func(say_hello)\n",
    "print(say_hello())"
   ]
  },
  {
   "cell_type": "markdown",
   "metadata": {},
   "source": [
    "IN python we can do this with `@` symbol"
   ]
  },
  {
   "cell_type": "code",
   "execution_count": 250,
   "metadata": {},
   "outputs": [
    {
     "name": "stdout",
     "output_type": "stream",
     "text": [
      "HELLO EVERYONE\n"
     ]
    }
   ],
   "source": [
    "def outer_func(func):\n",
    "    def inner_func():\n",
    "        msg = func()\n",
    "        return msg.upper()\n",
    "    return inner_func\n",
    "\n",
    "@outer_func\n",
    "def say_hello():\n",
    "    return \"hello everyone\"\n",
    " \n",
    "print(say_hello())"
   ]
  },
  {
   "cell_type": "markdown",
   "metadata": {},
   "source": [
    "Examples"
   ]
  },
  {
   "cell_type": "code",
   "execution_count": 251,
   "metadata": {},
   "outputs": [
    {
     "name": "stdout",
     "output_type": "stream",
     "text": [
      "3\n"
     ]
    }
   ],
   "source": [
    "def add(a,b):\n",
    "    return a+b\n",
    "\n",
    "print(add(1,2))"
   ]
  },
  {
   "cell_type": "markdown",
   "metadata": {},
   "source": [
    "Applying decorator"
   ]
  },
  {
   "cell_type": "code",
   "execution_count": 254,
   "metadata": {},
   "outputs": [
    {
     "name": "stdout",
     "output_type": "stream",
     "text": [
      "The summation of 1 and 2 is : 3\n"
     ]
    }
   ],
   "source": [
    "def outer(func):\n",
    "    def inner(args):\n",
    "        return \"The summation of {} and {} is : {}\".format(args[0],args[1],func(args[0],args[1]))\n",
    "    return inner\n",
    "\n",
    "@outer\n",
    "def add(a,b):\n",
    "    return a+b\n",
    "\n",
    "print(add([1,2]))"
   ]
  },
  {
   "cell_type": "markdown",
   "metadata": {},
   "source": [
    "Passing arguments to decorators"
   ]
  },
  {
   "cell_type": "code",
   "execution_count": 256,
   "metadata": {},
   "outputs": [
    {
     "name": "stdout",
     "output_type": "stream",
     "text": [
      "The summation of 1 and 8 is : 9\n"
     ]
    }
   ],
   "source": [
    "def periphery(x) :\n",
    "    def outer(func):\n",
    "        def inner(args):\n",
    "            return \"The summation of {} and {} is : {}\".format(args[0]**x,args[1]**x,func(args[0]**x,args[1]**x))\n",
    "        return inner\n",
    "    return outer\n",
    "\n",
    "@periphery(3)\n",
    "def add(a,b):\n",
    "    return a+b\n",
    "\n",
    "print(add([1,2]))"
   ]
  },
  {
   "cell_type": "markdown",
   "metadata": {},
   "source": [
    "`*args` and `**kwargs` in decorators"
   ]
  },
  {
   "cell_type": "code",
   "execution_count": 275,
   "metadata": {},
   "outputs": [
    {
     "name": "stdout",
     "output_type": "stream",
     "text": [
      "arguments passed are shown below\n",
      "poistional arguments (6, 8)\n",
      "keyword argumenrs are {'name': 'swodesh', 'age': 22}\n"
     ]
    }
   ],
   "source": [
    "def outer(func):\n",
    "    def inner(*args,**kwargs):\n",
    "        func()\n",
    "        print(f'poistional arguments {args}')\n",
    "        print(f'keyword argumenrs are {kwargs}')\n",
    "    return inner\n",
    "\n",
    "@outer\n",
    "def func():\n",
    "    print('arguments passed are shown below')\n",
    "    \n",
    "func(6,8,name='swodesh',age=22)\n",
    " "
   ]
  },
  {
   "cell_type": "markdown",
   "metadata": {},
   "source": [
    "**Applying Multiple decorators in Python**"
   ]
  },
  {
   "cell_type": "code",
   "execution_count": 274,
   "metadata": {},
   "outputs": [
    {
     "data": {
      "text/plain": [
       "[1, 64, 729, 4096, 15625]"
      ]
     },
     "execution_count": 274,
     "metadata": {},
     "output_type": "execute_result"
    }
   ],
   "source": [
    "def square(func):\n",
    "  def inner_one():\n",
    "    numbers = func()\n",
    "    return [i**2 for i in numbers]\n",
    "  return inner_one\n",
    "\n",
    "\n",
    "def cube(func):\n",
    "  def inner_two():\n",
    "    numbers = func()\n",
    "    return [i**3 for i in numbers]\n",
    "  return inner_two\n",
    "\n",
    "\n",
    "@square\n",
    "@cube\n",
    "def printer():\n",
    "  return [1,2,3,4,5]\n",
    "  \n",
    "printer()"
   ]
  },
  {
   "cell_type": "markdown",
   "metadata": {},
   "source": [
    "## The functools.wraps()"
   ]
  },
  {
   "cell_type": "markdown",
   "metadata": {},
   "source": [
    "When we use a decorator , it overrides the name and docstring of the original function."
   ]
  },
  {
   "cell_type": "code",
   "execution_count": 277,
   "metadata": {},
   "outputs": [
    {
     "name": "stdout",
     "output_type": "stream",
     "text": [
      "inner_func\n",
      "we are inside the inner function\n"
     ]
    }
   ],
   "source": [
    "def outer_func(func):\n",
    "    'we are inside the decorator'\n",
    "\n",
    "    def inner_func():\n",
    "        'we are inside the inner function'\n",
    "        msg = func()\n",
    "        return msg.upper()\n",
    "    return inner_func\n",
    "\n",
    "@outer_func\n",
    "def say_hello():\n",
    "    ' we are at original functopm'\n",
    "\n",
    "    return \"hello everyone\"\n",
    "\n",
    "print(say_hello.__name__)\n",
    "print(say_hello.__doc__)"
   ]
  },
  {
   "cell_type": "markdown",
   "metadata": {},
   "source": [
    "If we want to retain the information of original function we do like this"
   ]
  },
  {
   "cell_type": "code",
   "execution_count": 279,
   "metadata": {},
   "outputs": [
    {
     "name": "stdout",
     "output_type": "stream",
     "text": [
      "say_hello\n",
      "we are at original function\n"
     ]
    }
   ],
   "source": [
    "from functools import wraps\n",
    "def outer_func(func):\n",
    "    'we are inside the decorator'\n",
    "    @wraps(func)\n",
    "    def inner_func():\n",
    "        'we are inside the inner function'\n",
    "        msg = func()\n",
    "        return msg.upper()\n",
    "    return inner_func\n",
    "\n",
    "@outer_func\n",
    "def say_hello():\n",
    "    'we are at original function'\n",
    "\n",
    "    return \"hello everyone\"\n",
    "\n",
    "print(say_hello.__name__)\n",
    "print(say_hello.__doc__)"
   ]
  }
 ],
 "metadata": {
  "kernelspec": {
   "display_name": "ekbana",
   "language": "python",
   "name": "python3"
  },
  "language_info": {
   "codemirror_mode": {
    "name": "ipython",
    "version": 3
   },
   "file_extension": ".py",
   "mimetype": "text/x-python",
   "name": "python",
   "nbconvert_exporter": "python",
   "pygments_lexer": "ipython3",
   "version": "3.10.12"
  }
 },
 "nbformat": 4,
 "nbformat_minor": 2
}
